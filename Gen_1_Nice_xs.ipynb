{
  "nbformat": 4,
  "nbformat_minor": 0,
  "metadata": {
    "colab": {
      "name": "Gen_1.ipynb",
      "provenance": [],
      "collapsed_sections": [],
      "mount_file_id": "1gYwDSBxu4Tivb7F60p7nTks49G6-PtYj",
      "authorship_tag": "ABX9TyOGmpIFoRub8K0LEpA3uCWZ",
      "include_colab_link": true
    },
    "kernelspec": {
      "name": "python3",
      "display_name": "Python 3"
    },
    "language_info": {
      "name": "python"
    },
    "accelerator": "GPU"
  },
  "cells": [
    {
      "cell_type": "markdown",
      "metadata": {
        "id": "view-in-github",
        "colab_type": "text"
      },
      "source": [
        "<a href=\"https://colab.research.google.com/github/muchad/23/blob/main/Gen_1_Nice_xs.ipynb\" target=\"_parent\"><img src=\"https://colab.research.google.com/assets/colab-badge.svg\" alt=\"Open In Colab\"/></a>"
      ]
    },
    {
      "cell_type": "code",
      "execution_count": 1,
      "metadata": {
        "colab": {
          "base_uri": "https://localhost:8080/"
        },
        "collapsed": true,
        "id": "hHTQaV3nQXsy",
        "outputId": "496c3846-c4a8-41a0-e9c9-0761dce617c2"
      },
      "outputs": [
        {
          "output_type": "stream",
          "name": "stdout",
          "text": [
            "Looking in indexes: https://pypi.org/simple, https://us-python.pkg.dev/colab-wheels/public/simple/\n",
            "Collecting transformers==4.4.2\n",
            "  Downloading transformers-4.4.2-py3-none-any.whl (2.0 MB)\n",
            "\u001b[K     |████████████████████████████████| 2.0 MB 26.5 MB/s \n",
            "\u001b[?25hRequirement already satisfied: numpy>=1.17 in /usr/local/lib/python3.7/dist-packages (from transformers==4.4.2) (1.21.6)\n",
            "Requirement already satisfied: requests in /usr/local/lib/python3.7/dist-packages (from transformers==4.4.2) (2.23.0)\n",
            "Requirement already satisfied: filelock in /usr/local/lib/python3.7/dist-packages (from transformers==4.4.2) (3.7.0)\n",
            "Requirement already satisfied: packaging in /usr/local/lib/python3.7/dist-packages (from transformers==4.4.2) (21.3)\n",
            "Requirement already satisfied: tqdm>=4.27 in /usr/local/lib/python3.7/dist-packages (from transformers==4.4.2) (4.64.0)\n",
            "Collecting tokenizers<0.11,>=0.10.1\n",
            "  Downloading tokenizers-0.10.3-cp37-cp37m-manylinux_2_5_x86_64.manylinux1_x86_64.manylinux_2_12_x86_64.manylinux2010_x86_64.whl (3.3 MB)\n",
            "\u001b[K     |████████████████████████████████| 3.3 MB 54.3 MB/s \n",
            "\u001b[?25hRequirement already satisfied: regex!=2019.12.17 in /usr/local/lib/python3.7/dist-packages (from transformers==4.4.2) (2019.12.20)\n",
            "Collecting sacremoses\n",
            "  Downloading sacremoses-0.0.53.tar.gz (880 kB)\n",
            "\u001b[K     |████████████████████████████████| 880 kB 59.0 MB/s \n",
            "\u001b[?25hRequirement already satisfied: importlib-metadata in /usr/local/lib/python3.7/dist-packages (from transformers==4.4.2) (4.11.4)\n",
            "Requirement already satisfied: zipp>=0.5 in /usr/local/lib/python3.7/dist-packages (from importlib-metadata->transformers==4.4.2) (3.8.0)\n",
            "Requirement already satisfied: typing-extensions>=3.6.4 in /usr/local/lib/python3.7/dist-packages (from importlib-metadata->transformers==4.4.2) (4.2.0)\n",
            "Requirement already satisfied: pyparsing!=3.0.5,>=2.0.2 in /usr/local/lib/python3.7/dist-packages (from packaging->transformers==4.4.2) (3.0.9)\n",
            "Requirement already satisfied: idna<3,>=2.5 in /usr/local/lib/python3.7/dist-packages (from requests->transformers==4.4.2) (2.10)\n",
            "Requirement already satisfied: chardet<4,>=3.0.2 in /usr/local/lib/python3.7/dist-packages (from requests->transformers==4.4.2) (3.0.4)\n",
            "Requirement already satisfied: urllib3!=1.25.0,!=1.25.1,<1.26,>=1.21.1 in /usr/local/lib/python3.7/dist-packages (from requests->transformers==4.4.2) (1.24.3)\n",
            "Requirement already satisfied: certifi>=2017.4.17 in /usr/local/lib/python3.7/dist-packages (from requests->transformers==4.4.2) (2022.5.18.1)\n",
            "Requirement already satisfied: six in /usr/local/lib/python3.7/dist-packages (from sacremoses->transformers==4.4.2) (1.15.0)\n",
            "Requirement already satisfied: click in /usr/local/lib/python3.7/dist-packages (from sacremoses->transformers==4.4.2) (7.1.2)\n",
            "Requirement already satisfied: joblib in /usr/local/lib/python3.7/dist-packages (from sacremoses->transformers==4.4.2) (1.1.0)\n",
            "Building wheels for collected packages: sacremoses\n",
            "  Building wheel for sacremoses (setup.py) ... \u001b[?25l\u001b[?25hdone\n",
            "  Created wheel for sacremoses: filename=sacremoses-0.0.53-py3-none-any.whl size=895260 sha256=c24c4540b1a7a983717d4b584b07b66ba23f10b7fa2de04e253b496815f7ccab\n",
            "  Stored in directory: /root/.cache/pip/wheels/87/39/dd/a83eeef36d0bf98e7a4d1933a4ad2d660295a40613079bafc9\n",
            "Successfully built sacremoses\n",
            "Installing collected packages: tokenizers, sacremoses, transformers\n",
            "Successfully installed sacremoses-0.0.53 tokenizers-0.10.3 transformers-4.4.2\n",
            "Looking in indexes: https://pypi.org/simple, https://us-python.pkg.dev/colab-wheels/public/simple/\n",
            "Collecting sentencepiece==0.1.95\n",
            "  Downloading sentencepiece-0.1.95-cp37-cp37m-manylinux2014_x86_64.whl (1.2 MB)\n",
            "\u001b[K     |████████████████████████████████| 1.2 MB 28.2 MB/s \n",
            "\u001b[?25hInstalling collected packages: sentencepiece\n",
            "Successfully installed sentencepiece-0.1.95\n",
            "Looking in indexes: https://pypi.org/simple, https://us-python.pkg.dev/colab-wheels/public/simple/\n",
            "Collecting datasets==1.5.0\n",
            "  Downloading datasets-1.5.0-py3-none-any.whl (192 kB)\n",
            "\u001b[K     |████████████████████████████████| 192 kB 21.5 MB/s \n",
            "\u001b[?25hCollecting tqdm<4.50.0,>=4.27\n",
            "  Downloading tqdm-4.49.0-py2.py3-none-any.whl (69 kB)\n",
            "\u001b[K     |████████████████████████████████| 69 kB 7.5 MB/s \n",
            "\u001b[?25hCollecting xxhash\n",
            "  Downloading xxhash-3.0.0-cp37-cp37m-manylinux_2_17_x86_64.manylinux2014_x86_64.whl (212 kB)\n",
            "\u001b[K     |████████████████████████████████| 212 kB 66.4 MB/s \n",
            "\u001b[?25hCollecting fsspec\n",
            "  Downloading fsspec-2022.5.0-py3-none-any.whl (140 kB)\n",
            "\u001b[K     |████████████████████████████████| 140 kB 66.2 MB/s \n",
            "\u001b[?25hCollecting huggingface-hub<0.1.0\n",
            "  Downloading huggingface_hub-0.0.19-py3-none-any.whl (56 kB)\n",
            "\u001b[K     |████████████████████████████████| 56 kB 6.3 MB/s \n",
            "\u001b[?25hRequirement already satisfied: dill in /usr/local/lib/python3.7/dist-packages (from datasets==1.5.0) (0.3.5.1)\n",
            "Requirement already satisfied: importlib-metadata in /usr/local/lib/python3.7/dist-packages (from datasets==1.5.0) (4.11.4)\n",
            "Requirement already satisfied: requests>=2.19.0 in /usr/local/lib/python3.7/dist-packages (from datasets==1.5.0) (2.23.0)\n",
            "Requirement already satisfied: multiprocess in /usr/local/lib/python3.7/dist-packages (from datasets==1.5.0) (0.70.13)\n",
            "Requirement already satisfied: pyarrow>=0.17.1 in /usr/local/lib/python3.7/dist-packages (from datasets==1.5.0) (6.0.1)\n",
            "Requirement already satisfied: numpy>=1.17 in /usr/local/lib/python3.7/dist-packages (from datasets==1.5.0) (1.21.6)\n",
            "Requirement already satisfied: pandas in /usr/local/lib/python3.7/dist-packages (from datasets==1.5.0) (1.3.5)\n",
            "Requirement already satisfied: pyyaml in /usr/local/lib/python3.7/dist-packages (from huggingface-hub<0.1.0->datasets==1.5.0) (3.13)\n",
            "Requirement already satisfied: packaging>=20.9 in /usr/local/lib/python3.7/dist-packages (from huggingface-hub<0.1.0->datasets==1.5.0) (21.3)\n",
            "Requirement already satisfied: typing-extensions in /usr/local/lib/python3.7/dist-packages (from huggingface-hub<0.1.0->datasets==1.5.0) (4.2.0)\n",
            "Requirement already satisfied: filelock in /usr/local/lib/python3.7/dist-packages (from huggingface-hub<0.1.0->datasets==1.5.0) (3.7.0)\n",
            "Requirement already satisfied: pyparsing!=3.0.5,>=2.0.2 in /usr/local/lib/python3.7/dist-packages (from packaging>=20.9->huggingface-hub<0.1.0->datasets==1.5.0) (3.0.9)\n",
            "Requirement already satisfied: certifi>=2017.4.17 in /usr/local/lib/python3.7/dist-packages (from requests>=2.19.0->datasets==1.5.0) (2022.5.18.1)\n",
            "Requirement already satisfied: urllib3!=1.25.0,!=1.25.1,<1.26,>=1.21.1 in /usr/local/lib/python3.7/dist-packages (from requests>=2.19.0->datasets==1.5.0) (1.24.3)\n",
            "Requirement already satisfied: chardet<4,>=3.0.2 in /usr/local/lib/python3.7/dist-packages (from requests>=2.19.0->datasets==1.5.0) (3.0.4)\n",
            "Requirement already satisfied: idna<3,>=2.5 in /usr/local/lib/python3.7/dist-packages (from requests>=2.19.0->datasets==1.5.0) (2.10)\n",
            "Requirement already satisfied: zipp>=0.5 in /usr/local/lib/python3.7/dist-packages (from importlib-metadata->datasets==1.5.0) (3.8.0)\n",
            "Requirement already satisfied: pytz>=2017.3 in /usr/local/lib/python3.7/dist-packages (from pandas->datasets==1.5.0) (2022.1)\n",
            "Requirement already satisfied: python-dateutil>=2.7.3 in /usr/local/lib/python3.7/dist-packages (from pandas->datasets==1.5.0) (2.8.2)\n",
            "Requirement already satisfied: six>=1.5 in /usr/local/lib/python3.7/dist-packages (from python-dateutil>=2.7.3->pandas->datasets==1.5.0) (1.15.0)\n",
            "Installing collected packages: tqdm, xxhash, huggingface-hub, fsspec, datasets\n",
            "  Attempting uninstall: tqdm\n",
            "    Found existing installation: tqdm 4.64.0\n",
            "    Uninstalling tqdm-4.64.0:\n",
            "      Successfully uninstalled tqdm-4.64.0\n",
            "Successfully installed datasets-1.5.0 fsspec-2022.5.0 huggingface-hub-0.0.19 tqdm-4.49.0 xxhash-3.0.0\n",
            "Looking in indexes: https://pypi.org/simple, https://us-python.pkg.dev/colab-wheels/public/simple/\n",
            "Collecting nlp==0.4.0\n",
            "  Downloading nlp-0.4.0-py3-none-any.whl (1.7 MB)\n",
            "\u001b[K     |████████████████████████████████| 1.7 MB 24.3 MB/s \n",
            "\u001b[?25hRequirement already satisfied: numpy in /usr/local/lib/python3.7/dist-packages (from nlp==0.4.0) (1.21.6)\n",
            "Requirement already satisfied: filelock in /usr/local/lib/python3.7/dist-packages (from nlp==0.4.0) (3.7.0)\n",
            "Requirement already satisfied: requests>=2.19.0 in /usr/local/lib/python3.7/dist-packages (from nlp==0.4.0) (2.23.0)\n",
            "Requirement already satisfied: pandas in /usr/local/lib/python3.7/dist-packages (from nlp==0.4.0) (1.3.5)\n",
            "Requirement already satisfied: tqdm>=4.27 in /usr/local/lib/python3.7/dist-packages (from nlp==0.4.0) (4.49.0)\n",
            "Requirement already satisfied: dill in /usr/local/lib/python3.7/dist-packages (from nlp==0.4.0) (0.3.5.1)\n",
            "Requirement already satisfied: xxhash in /usr/local/lib/python3.7/dist-packages (from nlp==0.4.0) (3.0.0)\n",
            "Requirement already satisfied: pyarrow>=0.16.0 in /usr/local/lib/python3.7/dist-packages (from nlp==0.4.0) (6.0.1)\n",
            "Requirement already satisfied: certifi>=2017.4.17 in /usr/local/lib/python3.7/dist-packages (from requests>=2.19.0->nlp==0.4.0) (2022.5.18.1)\n",
            "Requirement already satisfied: chardet<4,>=3.0.2 in /usr/local/lib/python3.7/dist-packages (from requests>=2.19.0->nlp==0.4.0) (3.0.4)\n",
            "Requirement already satisfied: idna<3,>=2.5 in /usr/local/lib/python3.7/dist-packages (from requests>=2.19.0->nlp==0.4.0) (2.10)\n",
            "Requirement already satisfied: urllib3!=1.25.0,!=1.25.1,<1.26,>=1.21.1 in /usr/local/lib/python3.7/dist-packages (from requests>=2.19.0->nlp==0.4.0) (1.24.3)\n",
            "Requirement already satisfied: python-dateutil>=2.7.3 in /usr/local/lib/python3.7/dist-packages (from pandas->nlp==0.4.0) (2.8.2)\n",
            "Requirement already satisfied: pytz>=2017.3 in /usr/local/lib/python3.7/dist-packages (from pandas->nlp==0.4.0) (2022.1)\n",
            "Requirement already satisfied: six>=1.5 in /usr/local/lib/python3.7/dist-packages (from python-dateutil>=2.7.3->pandas->nlp==0.4.0) (1.15.0)\n",
            "Installing collected packages: nlp\n",
            "Successfully installed nlp-0.4.0\n",
            "Looking in indexes: https://pypi.org/simple, https://us-python.pkg.dev/colab-wheels/public/simple/\n",
            "Requirement already satisfied: nltk in /usr/local/lib/python3.7/dist-packages (3.2.5)\n",
            "Requirement already satisfied: six in /usr/local/lib/python3.7/dist-packages (from nltk) (1.15.0)\n",
            "/usr/lib/python3.7/runpy.py:125: RuntimeWarning: 'nltk.downloader' found in sys.modules after import of package 'nltk', but prior to execution of 'nltk.downloader'; this may result in unpredictable behaviour\n",
            "  warn(RuntimeWarning(msg))\n",
            "[nltk_data] Downloading package punkt to /root/nltk_data...\n",
            "[nltk_data]   Unzipping tokenizers/punkt.zip.\n"
          ]
        }
      ],
      "source": [
        "!pip install transformers==4.4.2\n",
        "!pip install sentencepiece==0.1.95\n",
        "!pip install datasets==1.5.0\n",
        "!pip install nlp==0.4.0\n",
        "!pip install nltk\n",
        "!python -m nltk.downloader punkt"
      ]
    },
    {
      "cell_type": "code",
      "source": [
        "from google.colab import drive\n",
        "drive.mount('/content/gdrive')\n",
        "%cd gdrive/My Drive/Colab Notebooks/QG_id_mt5"
      ],
      "metadata": {
        "colab": {
          "base_uri": "https://localhost:8080/"
        },
        "collapsed": true,
        "id": "7yfBMPXuUsGj",
        "outputId": "8477e643-8d8f-40b1-8595-0579b3eb3d8b"
      },
      "execution_count": 2,
      "outputs": [
        {
          "output_type": "stream",
          "name": "stdout",
          "text": [
            "Mounted at /content/gdrive\n",
            "/content/gdrive/My Drive/Colab Notebooks/QG_id_mt5\n"
          ]
        }
      ]
    },
    {
      "cell_type": "code",
      "source": [
        "git clone https://github.com/ozcangundes/multitask-question-generation.git"
      ],
      "metadata": {
        "colab": {
          "base_uri": "https://localhost:8080/"
        },
        "collapsed": true,
        "id": "himLb10NTxWL",
        "outputId": "2c478bb1-f623-4603-e614-7fc9bfe99700"
      },
      "execution_count": null,
      "outputs": [
        {
          "output_type": "stream",
          "name": "stdout",
          "text": [
            "Cloning into 'multitask-question-generation'...\n",
            "remote: Enumerating objects: 50, done.\u001b[K\n",
            "remote: Counting objects: 100% (50/50), done.\u001b[K\n",
            "remote: Compressing objects: 100% (38/38), done.\u001b[K\n",
            "remote: Total 50 (delta 21), reused 25 (delta 8), pack-reused 0\u001b[K\n",
            "Unpacking objects: 100% (50/50), done.\n"
          ]
        }
      ]
    },
    {
      "cell_type": "code",
      "source": [
        "%cd multitask-question-generation"
      ],
      "metadata": {
        "colab": {
          "base_uri": "https://localhost:8080/"
        },
        "collapsed": true,
        "id": "FWBk3XjsVcPt",
        "outputId": "100bfd19-4de0-42bc-83d9-e58a8f8159d9"
      },
      "execution_count": 3,
      "outputs": [
        {
          "output_type": "stream",
          "name": "stdout",
          "text": [
            "/content/gdrive/My Drive/Colab Notebooks/QG_id_mt5/multitask-question-generation\n"
          ]
        }
      ]
    },
    {
      "cell_type": "markdown",
      "source": [
        "Prepare Data"
      ],
      "metadata": {
        "id": "xveWu9_mVlw3"
      }
    },
    {
      "cell_type": "code",
      "source": [
        "!python prepare_data.py"
      ],
      "metadata": {
        "colab": {
          "base_uri": "https://localhost:8080/"
        },
        "id": "5IgOkpvUVkhM",
        "outputId": "c0b3b688-0928-498f-a973-dbbe7c53503f"
      },
      "execution_count": 4,
      "outputs": [
        {
          "output_type": "stream",
          "name": "stdout",
          "text": [
            "Downloading: 100% 4.31M/4.31M [00:00<00:00, 56.4MB/s]\n",
            "Downloading: 100% 99.0/99.0 [00:00<00:00, 50.2kB/s]\n",
            "Downloading: 100% 82.0/82.0 [00:00<00:00, 48.7kB/s]\n",
            "100% 65698/65698 [00:02<00:00, 28681.68it/s]\n",
            "06/05/2022 08:50:24 - INFO - nlp.arrow_writer -   Done writing 65698 examples in 51501866 bytes .\n",
            "100% 65698/65698 [00:02<00:00, 25598.58it/s]\n",
            "06/05/2022 08:50:27 - INFO - nlp.arrow_writer -   Done writing 65698 examples in 50875718 bytes .\n",
            "/usr/local/lib/python3.7/dist-packages/transformers/models/t5/tokenization_t5.py:175: UserWarning: This sequence already has </s>. In future versions this behavior may lead to duplicated eos tokens being added.\n",
            "  f\"This sequence already has {self.eos_token}. In future versions this behavior may lead to duplicated eos tokens being added.\"\n",
            "100% 66/66 [01:56<00:00,  1.77s/it]\n",
            "06/05/2022 08:52:24 - INFO - nlp.arrow_writer -   Done writing 65698 examples in 631909622 bytes .\n",
            "100% 15881/15881 [00:00<00:00, 29366.84it/s]\n",
            "06/05/2022 08:52:24 - INFO - nlp.arrow_writer -   Done writing 15881 examples in 15426713 bytes .\n",
            "100% 15881/15881 [00:00<00:00, 27715.78it/s]\n",
            "06/05/2022 08:52:25 - INFO - nlp.arrow_writer -   Done writing 15881 examples in 15272801 bytes .\n",
            "100% 16/16 [00:29<00:00,  1.83s/it]\n",
            "06/05/2022 08:52:54 - INFO - nlp.arrow_writer -   Done writing 15881 examples in 155724557 bytes .\n",
            "06/05/2022 08:52:54 - INFO - nlp.arrow_dataset -   Set __getitem__(key) output type to torch for ['source_ids', 'target_ids', 'attention_mask'] columns  (when key is int or slice) and don't output other (un-formated) columns.\n",
            "06/05/2022 08:52:54 - INFO - nlp.arrow_dataset -   Set __getitem__(key) output type to torch for ['source_ids', 'target_ids', 'attention_mask'] columns  (when key is int or slice) and don't output other (un-formated) columns.\n",
            "06/05/2022 08:53:02 - INFO - __main__ -   saved train dataset at data/train_data_multitask_mt5.pt\n",
            "06/05/2022 08:53:03 - INFO - __main__ -   saved validation dataset at data/valid_data_multitask_mt5.pt\n",
            "06/05/2022 08:53:03 - INFO - __main__ -   saved tokenizer at mt5_qg_tokenizer\n"
          ]
        }
      ]
    },
    {
      "cell_type": "code",
      "source": [
        "!python prepare_data.py"
      ],
      "metadata": {
        "colab": {
          "base_uri": "https://localhost:8080/"
        },
        "id": "ox80eLbQnggW",
        "outputId": "c69013a3-e618-4027-f1c8-b5e4677eedcc"
      },
      "execution_count": 5,
      "outputs": [
        {
          "output_type": "stream",
          "name": "stdout",
          "text": [
            "100% 36275/36275 [00:01<00:00, 29865.80it/s]\n",
            "06/05/2022 02:08:47 - INFO - nlp.arrow_writer -   Done writing 36275 examples in 53215331 bytes .\n",
            "100% 36275/36275 [00:01<00:00, 27249.82it/s]\n",
            "06/05/2022 02:08:49 - INFO - nlp.arrow_writer -   Done writing 36275 examples in 52869851 bytes .\n",
            "/usr/local/lib/python3.7/dist-packages/transformers/models/t5/tokenization_t5.py:175: UserWarning: This sequence already has </s>. In future versions this behavior may lead to duplicated eos tokens being added.\n",
            "  f\"This sequence already has {self.eos_token}. In future versions this behavior may lead to duplicated eos tokens being added.\"\n",
            "100% 37/37 [01:13<00:00,  2.00s/it]\n",
            "06/05/2022 02:10:03 - INFO - nlp.arrow_writer -   Done writing 36275 examples in 373686395 bytes .\n",
            "100% 3449/3449 [00:00<00:00, 29653.18it/s]\n",
            "06/05/2022 02:10:03 - INFO - nlp.arrow_writer -   Done writing 3449 examples in 5963019 bytes .\n",
            "100% 3449/3449 [00:00<00:00, 29320.39it/s]\n",
            "06/05/2022 02:10:03 - INFO - nlp.arrow_writer -   Done writing 3449 examples in 5929947 bytes .\n",
            "100% 4/4 [00:08<00:00,  2.09s/it]\n",
            "06/05/2022 02:10:11 - INFO - nlp.arrow_writer -   Done writing 3449 examples in 36432951 bytes .\n",
            "06/05/2022 02:10:11 - INFO - nlp.arrow_dataset -   Set __getitem__(key) output type to torch for ['source_ids', 'target_ids', 'attention_mask'] columns  (when key is int or slice) and don't output other (un-formated) columns.\n",
            "06/05/2022 02:10:11 - INFO - nlp.arrow_dataset -   Set __getitem__(key) output type to torch for ['source_ids', 'target_ids', 'attention_mask'] columns  (when key is int or slice) and don't output other (un-formated) columns.\n",
            "06/05/2022 02:10:15 - INFO - __main__ -   saved train dataset at data/train_data_multitask_mt5.pt\n",
            "06/05/2022 02:10:16 - INFO - __main__ -   saved validation dataset at data/valid_data_multitask_mt5.pt\n",
            "06/05/2022 02:10:16 - INFO - __main__ -   saved tokenizer at mt5_qg_tokenizer\n"
          ]
        }
      ]
    },
    {
      "cell_type": "markdown",
      "source": [
        "Fine Tune"
      ],
      "metadata": {
        "id": "GmZZ51R7VndI"
      }
    },
    {
      "cell_type": "code",
      "source": [
        "from run_multi import run_multi\n",
        "\n",
        "args_dict = {\n",
        "    \"model_name_or_path\": \"google/mt5-small\",\n",
        "    \"model_type\": \"mt5\",\n",
        "    \"tokenizer_name_or_path\": \"mt5_qg_tokenizer\",\n",
        "    \"output_dir\": \"multi\",\n",
        "    \"train_file_path\": \"data/train_data_multitask_mt5.pt\",\n",
        "    \"valid_file_path\": \"data/valid_data_multitask_mt5.pt\",\n",
        "    \"per_device_train_batch_size\": 16,\n",
        "    \"per_device_eval_batch_size\": 16,\n",
        "    \"gradient_accumulation_steps\": 2,\n",
        "    \"learning_rate\": 1e-4,\n",
        "    \"num_train_epochs\": 2,\n",
        "    \"seed\": 42,\n",
        "    \"do_train\": True,\n",
        "    \"do_eval\": True,\n",
        "    \"evaluate_during_training\": True,\n",
        "    \"logging_steps\": 100\n",
        "}\n",
        "\n",
        "# start training\n",
        "run_multi(args_dict)"
      ],
      "metadata": {
        "colab": {
          "base_uri": "https://localhost:8080/",
          "height": 539
        },
        "collapsed": true,
        "id": "jpaDMNJdVoh1",
        "outputId": "d80f5241-29b4-46d2-ede2-c070760e4c37"
      },
      "execution_count": 4,
      "outputs": [
        {
          "output_type": "error",
          "ename": "FileNotFoundError",
          "evalue": "ignored",
          "traceback": [
            "\u001b[0;31m---------------------------------------------------------------------------\u001b[0m",
            "\u001b[0;31mAttributeError\u001b[0m                            Traceback (most recent call last)",
            "\u001b[0;32m/usr/local/lib/python3.7/dist-packages/pkg_resources/__init__.py\u001b[0m in \u001b[0;36m_dep_map\u001b[0;34m(self)\u001b[0m\n\u001b[1;32m   3015\u001b[0m         \u001b[0;32mtry\u001b[0m\u001b[0;34m:\u001b[0m\u001b[0;34m\u001b[0m\u001b[0;34m\u001b[0m\u001b[0m\n\u001b[0;32m-> 3016\u001b[0;31m             \u001b[0;32mreturn\u001b[0m \u001b[0mself\u001b[0m\u001b[0;34m.\u001b[0m\u001b[0m__dep_map\u001b[0m\u001b[0;34m\u001b[0m\u001b[0;34m\u001b[0m\u001b[0m\n\u001b[0m\u001b[1;32m   3017\u001b[0m         \u001b[0;32mexcept\u001b[0m \u001b[0mAttributeError\u001b[0m\u001b[0;34m:\u001b[0m\u001b[0;34m\u001b[0m\u001b[0;34m\u001b[0m\u001b[0m\n",
            "\u001b[0;32m/usr/local/lib/python3.7/dist-packages/pkg_resources/__init__.py\u001b[0m in \u001b[0;36m__getattr__\u001b[0;34m(self, attr)\u001b[0m\n\u001b[1;32m   2812\u001b[0m         \u001b[0;32mif\u001b[0m \u001b[0mattr\u001b[0m\u001b[0;34m.\u001b[0m\u001b[0mstartswith\u001b[0m\u001b[0;34m(\u001b[0m\u001b[0;34m'_'\u001b[0m\u001b[0;34m)\u001b[0m\u001b[0;34m:\u001b[0m\u001b[0;34m\u001b[0m\u001b[0;34m\u001b[0m\u001b[0m\n\u001b[0;32m-> 2813\u001b[0;31m             \u001b[0;32mraise\u001b[0m \u001b[0mAttributeError\u001b[0m\u001b[0;34m(\u001b[0m\u001b[0mattr\u001b[0m\u001b[0;34m)\u001b[0m\u001b[0;34m\u001b[0m\u001b[0;34m\u001b[0m\u001b[0m\n\u001b[0m\u001b[1;32m   2814\u001b[0m         \u001b[0;32mreturn\u001b[0m \u001b[0mgetattr\u001b[0m\u001b[0;34m(\u001b[0m\u001b[0mself\u001b[0m\u001b[0;34m.\u001b[0m\u001b[0m_provider\u001b[0m\u001b[0;34m,\u001b[0m \u001b[0mattr\u001b[0m\u001b[0;34m)\u001b[0m\u001b[0;34m\u001b[0m\u001b[0;34m\u001b[0m\u001b[0m\n",
            "\u001b[0;31mAttributeError\u001b[0m: _DistInfoDistribution__dep_map",
            "\nDuring handling of the above exception, another exception occurred:\n",
            "\u001b[0;31mAttributeError\u001b[0m                            Traceback (most recent call last)",
            "\u001b[0;32m/usr/local/lib/python3.7/dist-packages/pkg_resources/__init__.py\u001b[0m in \u001b[0;36m_parsed_pkg_info\u001b[0;34m(self)\u001b[0m\n\u001b[1;32m   3006\u001b[0m         \u001b[0;32mtry\u001b[0m\u001b[0;34m:\u001b[0m\u001b[0;34m\u001b[0m\u001b[0;34m\u001b[0m\u001b[0m\n\u001b[0;32m-> 3007\u001b[0;31m             \u001b[0;32mreturn\u001b[0m \u001b[0mself\u001b[0m\u001b[0;34m.\u001b[0m\u001b[0m_pkg_info\u001b[0m\u001b[0;34m\u001b[0m\u001b[0;34m\u001b[0m\u001b[0m\n\u001b[0m\u001b[1;32m   3008\u001b[0m         \u001b[0;32mexcept\u001b[0m \u001b[0mAttributeError\u001b[0m\u001b[0;34m:\u001b[0m\u001b[0;34m\u001b[0m\u001b[0;34m\u001b[0m\u001b[0m\n",
            "\u001b[0;32m/usr/local/lib/python3.7/dist-packages/pkg_resources/__init__.py\u001b[0m in \u001b[0;36m__getattr__\u001b[0;34m(self, attr)\u001b[0m\n\u001b[1;32m   2812\u001b[0m         \u001b[0;32mif\u001b[0m \u001b[0mattr\u001b[0m\u001b[0;34m.\u001b[0m\u001b[0mstartswith\u001b[0m\u001b[0;34m(\u001b[0m\u001b[0;34m'_'\u001b[0m\u001b[0;34m)\u001b[0m\u001b[0;34m:\u001b[0m\u001b[0;34m\u001b[0m\u001b[0;34m\u001b[0m\u001b[0m\n\u001b[0;32m-> 2813\u001b[0;31m             \u001b[0;32mraise\u001b[0m \u001b[0mAttributeError\u001b[0m\u001b[0;34m(\u001b[0m\u001b[0mattr\u001b[0m\u001b[0;34m)\u001b[0m\u001b[0;34m\u001b[0m\u001b[0;34m\u001b[0m\u001b[0m\n\u001b[0m\u001b[1;32m   2814\u001b[0m         \u001b[0;32mreturn\u001b[0m \u001b[0mgetattr\u001b[0m\u001b[0;34m(\u001b[0m\u001b[0mself\u001b[0m\u001b[0;34m.\u001b[0m\u001b[0m_provider\u001b[0m\u001b[0;34m,\u001b[0m \u001b[0mattr\u001b[0m\u001b[0;34m)\u001b[0m\u001b[0;34m\u001b[0m\u001b[0;34m\u001b[0m\u001b[0m\n",
            "\u001b[0;31mAttributeError\u001b[0m: _pkg_info",
            "\nDuring handling of the above exception, another exception occurred:\n",
            "\u001b[0;31mFileNotFoundError\u001b[0m                         Traceback (most recent call last)",
            "\u001b[0;32m<ipython-input-4-bf65470d3ab8>\u001b[0m in \u001b[0;36m<module>\u001b[0;34m()\u001b[0m\n\u001b[0;32m----> 1\u001b[0;31m \u001b[0;32mfrom\u001b[0m \u001b[0mrun_multi\u001b[0m \u001b[0;32mimport\u001b[0m \u001b[0mrun_multi\u001b[0m\u001b[0;34m\u001b[0m\u001b[0;34m\u001b[0m\u001b[0m\n\u001b[0m\u001b[1;32m      2\u001b[0m \u001b[0;34m\u001b[0m\u001b[0m\n\u001b[1;32m      3\u001b[0m args_dict = {\n\u001b[1;32m      4\u001b[0m     \u001b[0;34m\"model_name_or_path\"\u001b[0m\u001b[0;34m:\u001b[0m \u001b[0;34m\"google/mt5-small\"\u001b[0m\u001b[0;34m,\u001b[0m\u001b[0;34m\u001b[0m\u001b[0;34m\u001b[0m\u001b[0m\n\u001b[1;32m      5\u001b[0m     \u001b[0;34m\"model_type\"\u001b[0m\u001b[0;34m:\u001b[0m \u001b[0;34m\"mt5\"\u001b[0m\u001b[0;34m,\u001b[0m\u001b[0;34m\u001b[0m\u001b[0;34m\u001b[0m\u001b[0m\n",
            "\u001b[0;32m/content/gdrive/MyDrive/Colab Notebooks/QG_id_mt5/multitask-question-generation/run_multi.py\u001b[0m in \u001b[0;36m<module>\u001b[0;34m()\u001b[0m\n\u001b[1;32m     17\u001b[0m \u001b[0;32mimport\u001b[0m \u001b[0mtorch\u001b[0m\u001b[0;34m\u001b[0m\u001b[0;34m\u001b[0m\u001b[0m\n\u001b[1;32m     18\u001b[0m \u001b[0;34m\u001b[0m\u001b[0m\n\u001b[0;32m---> 19\u001b[0;31m from transformers import (\n\u001b[0m\u001b[1;32m     20\u001b[0m     \u001b[0mAutoModelForSeq2SeqLM\u001b[0m\u001b[0;34m,\u001b[0m\u001b[0;34m\u001b[0m\u001b[0;34m\u001b[0m\u001b[0m\n\u001b[1;32m     21\u001b[0m     \u001b[0mAutoTokenizer\u001b[0m\u001b[0;34m,\u001b[0m\u001b[0;34m\u001b[0m\u001b[0;34m\u001b[0m\u001b[0m\n",
            "\u001b[0;32m/usr/local/lib/python3.7/dist-packages/transformers/__init__.py\u001b[0m in \u001b[0;36m<module>\u001b[0;34m()\u001b[0m\n\u001b[1;32m     41\u001b[0m \u001b[0;34m\u001b[0m\u001b[0m\n\u001b[1;32m     42\u001b[0m \u001b[0;31m# Check the dependencies satisfy the minimal versions required.\u001b[0m\u001b[0;34m\u001b[0m\u001b[0;34m\u001b[0m\u001b[0;34m\u001b[0m\u001b[0m\n\u001b[0;32m---> 43\u001b[0;31m \u001b[0;32mfrom\u001b[0m \u001b[0;34m.\u001b[0m \u001b[0;32mimport\u001b[0m \u001b[0mdependency_versions_check\u001b[0m\u001b[0;34m\u001b[0m\u001b[0;34m\u001b[0m\u001b[0m\n\u001b[0m\u001b[1;32m     44\u001b[0m from .file_utils import (\n\u001b[1;32m     45\u001b[0m     \u001b[0m_BaseLazyModule\u001b[0m\u001b[0;34m,\u001b[0m\u001b[0;34m\u001b[0m\u001b[0;34m\u001b[0m\u001b[0m\n",
            "\u001b[0;32m/usr/local/lib/python3.7/dist-packages/transformers/dependency_versions_check.py\u001b[0m in \u001b[0;36m<module>\u001b[0;34m()\u001b[0m\n\u001b[1;32m     39\u001b[0m                 \u001b[0;32mcontinue\u001b[0m  \u001b[0;31m# not required, check version only if installed\u001b[0m\u001b[0;34m\u001b[0m\u001b[0;34m\u001b[0m\u001b[0m\n\u001b[1;32m     40\u001b[0m \u001b[0;34m\u001b[0m\u001b[0m\n\u001b[0;32m---> 41\u001b[0;31m         \u001b[0mrequire_version_core\u001b[0m\u001b[0;34m(\u001b[0m\u001b[0mdeps\u001b[0m\u001b[0;34m[\u001b[0m\u001b[0mpkg\u001b[0m\u001b[0;34m]\u001b[0m\u001b[0;34m)\u001b[0m\u001b[0;34m\u001b[0m\u001b[0;34m\u001b[0m\u001b[0m\n\u001b[0m\u001b[1;32m     42\u001b[0m     \u001b[0;32melse\u001b[0m\u001b[0;34m:\u001b[0m\u001b[0;34m\u001b[0m\u001b[0;34m\u001b[0m\u001b[0m\n\u001b[1;32m     43\u001b[0m         \u001b[0;32mraise\u001b[0m \u001b[0mValueError\u001b[0m\u001b[0;34m(\u001b[0m\u001b[0;34mf\"can't find {pkg} in {deps.keys()}, check dependency_versions_table.py\"\u001b[0m\u001b[0;34m)\u001b[0m\u001b[0;34m\u001b[0m\u001b[0;34m\u001b[0m\u001b[0m\n",
            "\u001b[0;32m/usr/local/lib/python3.7/dist-packages/transformers/utils/versions.py\u001b[0m in \u001b[0;36mrequire_version_core\u001b[0;34m(requirement)\u001b[0m\n\u001b[1;32m     92\u001b[0m     \u001b[0;34m\"\"\" require_version wrapper which emits a core-specific hint on failure \"\"\"\u001b[0m\u001b[0;34m\u001b[0m\u001b[0;34m\u001b[0m\u001b[0m\n\u001b[1;32m     93\u001b[0m     \u001b[0mhint\u001b[0m \u001b[0;34m=\u001b[0m \u001b[0;34m\"Try: pip install transformers -U or pip install -e '.[dev]' if you're working with git master\"\u001b[0m\u001b[0;34m\u001b[0m\u001b[0;34m\u001b[0m\u001b[0m\n\u001b[0;32m---> 94\u001b[0;31m     \u001b[0;32mreturn\u001b[0m \u001b[0mrequire_version\u001b[0m\u001b[0;34m(\u001b[0m\u001b[0mrequirement\u001b[0m\u001b[0;34m,\u001b[0m \u001b[0mhint\u001b[0m\u001b[0;34m)\u001b[0m\u001b[0;34m\u001b[0m\u001b[0;34m\u001b[0m\u001b[0m\n\u001b[0m\u001b[1;32m     95\u001b[0m \u001b[0;34m\u001b[0m\u001b[0m\n\u001b[1;32m     96\u001b[0m \u001b[0;34m\u001b[0m\u001b[0m\n",
            "\u001b[0;32m/usr/local/lib/python3.7/dist-packages/transformers/utils/versions.py\u001b[0m in \u001b[0;36mrequire_version\u001b[0;34m(requirement, hint)\u001b[0m\n\u001b[1;32m     78\u001b[0m     \u001b[0;31m# check if any version is installed\u001b[0m\u001b[0;34m\u001b[0m\u001b[0;34m\u001b[0m\u001b[0;34m\u001b[0m\u001b[0m\n\u001b[1;32m     79\u001b[0m     \u001b[0;32mtry\u001b[0m\u001b[0;34m:\u001b[0m\u001b[0;34m\u001b[0m\u001b[0;34m\u001b[0m\u001b[0m\n\u001b[0;32m---> 80\u001b[0;31m         \u001b[0mgot_ver\u001b[0m \u001b[0;34m=\u001b[0m \u001b[0mpkg_resources\u001b[0m\u001b[0;34m.\u001b[0m\u001b[0mget_distribution\u001b[0m\u001b[0;34m(\u001b[0m\u001b[0mpkg\u001b[0m\u001b[0;34m)\u001b[0m\u001b[0;34m.\u001b[0m\u001b[0mversion\u001b[0m\u001b[0;34m\u001b[0m\u001b[0;34m\u001b[0m\u001b[0m\n\u001b[0m\u001b[1;32m     81\u001b[0m     \u001b[0;32mexcept\u001b[0m \u001b[0mpkg_resources\u001b[0m\u001b[0;34m.\u001b[0m\u001b[0mDistributionNotFound\u001b[0m\u001b[0;34m:\u001b[0m\u001b[0;34m\u001b[0m\u001b[0;34m\u001b[0m\u001b[0m\n\u001b[1;32m     82\u001b[0m         \u001b[0;32mraise\u001b[0m \u001b[0mpkg_resources\u001b[0m\u001b[0;34m.\u001b[0m\u001b[0mDistributionNotFound\u001b[0m\u001b[0;34m(\u001b[0m\u001b[0mrequirement\u001b[0m\u001b[0;34m,\u001b[0m \u001b[0;34m[\u001b[0m\u001b[0;34m\"this application\"\u001b[0m\u001b[0;34m,\u001b[0m \u001b[0mhint\u001b[0m\u001b[0;34m]\u001b[0m\u001b[0;34m)\u001b[0m\u001b[0;34m\u001b[0m\u001b[0;34m\u001b[0m\u001b[0m\n",
            "\u001b[0;32m/usr/local/lib/python3.7/dist-packages/pkg_resources/__init__.py\u001b[0m in \u001b[0;36mget_distribution\u001b[0;34m(dist)\u001b[0m\n\u001b[1;32m    464\u001b[0m         \u001b[0mdist\u001b[0m \u001b[0;34m=\u001b[0m \u001b[0mRequirement\u001b[0m\u001b[0;34m.\u001b[0m\u001b[0mparse\u001b[0m\u001b[0;34m(\u001b[0m\u001b[0mdist\u001b[0m\u001b[0;34m)\u001b[0m\u001b[0;34m\u001b[0m\u001b[0;34m\u001b[0m\u001b[0m\n\u001b[1;32m    465\u001b[0m     \u001b[0;32mif\u001b[0m \u001b[0misinstance\u001b[0m\u001b[0;34m(\u001b[0m\u001b[0mdist\u001b[0m\u001b[0;34m,\u001b[0m \u001b[0mRequirement\u001b[0m\u001b[0;34m)\u001b[0m\u001b[0;34m:\u001b[0m\u001b[0;34m\u001b[0m\u001b[0;34m\u001b[0m\u001b[0m\n\u001b[0;32m--> 466\u001b[0;31m         \u001b[0mdist\u001b[0m \u001b[0;34m=\u001b[0m \u001b[0mget_provider\u001b[0m\u001b[0;34m(\u001b[0m\u001b[0mdist\u001b[0m\u001b[0;34m)\u001b[0m\u001b[0;34m\u001b[0m\u001b[0;34m\u001b[0m\u001b[0m\n\u001b[0m\u001b[1;32m    467\u001b[0m     \u001b[0;32mif\u001b[0m \u001b[0;32mnot\u001b[0m \u001b[0misinstance\u001b[0m\u001b[0;34m(\u001b[0m\u001b[0mdist\u001b[0m\u001b[0;34m,\u001b[0m \u001b[0mDistribution\u001b[0m\u001b[0;34m)\u001b[0m\u001b[0;34m:\u001b[0m\u001b[0;34m\u001b[0m\u001b[0;34m\u001b[0m\u001b[0m\n\u001b[1;32m    468\u001b[0m         \u001b[0;32mraise\u001b[0m \u001b[0mTypeError\u001b[0m\u001b[0;34m(\u001b[0m\u001b[0;34m\"Expected string, Requirement, or Distribution\"\u001b[0m\u001b[0;34m,\u001b[0m \u001b[0mdist\u001b[0m\u001b[0;34m)\u001b[0m\u001b[0;34m\u001b[0m\u001b[0;34m\u001b[0m\u001b[0m\n",
            "\u001b[0;32m/usr/local/lib/python3.7/dist-packages/pkg_resources/__init__.py\u001b[0m in \u001b[0;36mget_provider\u001b[0;34m(moduleOrReq)\u001b[0m\n\u001b[1;32m    340\u001b[0m     \u001b[0;34m\"\"\"Return an IResourceProvider for the named module or requirement\"\"\"\u001b[0m\u001b[0;34m\u001b[0m\u001b[0;34m\u001b[0m\u001b[0m\n\u001b[1;32m    341\u001b[0m     \u001b[0;32mif\u001b[0m \u001b[0misinstance\u001b[0m\u001b[0;34m(\u001b[0m\u001b[0mmoduleOrReq\u001b[0m\u001b[0;34m,\u001b[0m \u001b[0mRequirement\u001b[0m\u001b[0;34m)\u001b[0m\u001b[0;34m:\u001b[0m\u001b[0;34m\u001b[0m\u001b[0;34m\u001b[0m\u001b[0m\n\u001b[0;32m--> 342\u001b[0;31m         \u001b[0;32mreturn\u001b[0m \u001b[0mworking_set\u001b[0m\u001b[0;34m.\u001b[0m\u001b[0mfind\u001b[0m\u001b[0;34m(\u001b[0m\u001b[0mmoduleOrReq\u001b[0m\u001b[0;34m)\u001b[0m \u001b[0;32mor\u001b[0m \u001b[0mrequire\u001b[0m\u001b[0;34m(\u001b[0m\u001b[0mstr\u001b[0m\u001b[0;34m(\u001b[0m\u001b[0mmoduleOrReq\u001b[0m\u001b[0;34m)\u001b[0m\u001b[0;34m)\u001b[0m\u001b[0;34m[\u001b[0m\u001b[0;36m0\u001b[0m\u001b[0;34m]\u001b[0m\u001b[0;34m\u001b[0m\u001b[0;34m\u001b[0m\u001b[0m\n\u001b[0m\u001b[1;32m    343\u001b[0m     \u001b[0;32mtry\u001b[0m\u001b[0;34m:\u001b[0m\u001b[0;34m\u001b[0m\u001b[0;34m\u001b[0m\u001b[0m\n\u001b[1;32m    344\u001b[0m         \u001b[0mmodule\u001b[0m \u001b[0;34m=\u001b[0m \u001b[0msys\u001b[0m\u001b[0;34m.\u001b[0m\u001b[0mmodules\u001b[0m\u001b[0;34m[\u001b[0m\u001b[0mmoduleOrReq\u001b[0m\u001b[0;34m]\u001b[0m\u001b[0;34m\u001b[0m\u001b[0;34m\u001b[0m\u001b[0m\n",
            "\u001b[0;32m/usr/local/lib/python3.7/dist-packages/pkg_resources/__init__.py\u001b[0m in \u001b[0;36mrequire\u001b[0;34m(self, *requirements)\u001b[0m\n\u001b[1;32m    884\u001b[0m         \u001b[0mincluded\u001b[0m\u001b[0;34m,\u001b[0m \u001b[0meven\u001b[0m \u001b[0;32mif\u001b[0m \u001b[0mthey\u001b[0m \u001b[0mwere\u001b[0m \u001b[0malready\u001b[0m \u001b[0mactivated\u001b[0m \u001b[0;32min\u001b[0m \u001b[0mthis\u001b[0m \u001b[0mworking\u001b[0m \u001b[0mset\u001b[0m\u001b[0;34m.\u001b[0m\u001b[0;34m\u001b[0m\u001b[0;34m\u001b[0m\u001b[0m\n\u001b[1;32m    885\u001b[0m         \"\"\"\n\u001b[0;32m--> 886\u001b[0;31m         \u001b[0mneeded\u001b[0m \u001b[0;34m=\u001b[0m \u001b[0mself\u001b[0m\u001b[0;34m.\u001b[0m\u001b[0mresolve\u001b[0m\u001b[0;34m(\u001b[0m\u001b[0mparse_requirements\u001b[0m\u001b[0;34m(\u001b[0m\u001b[0mrequirements\u001b[0m\u001b[0;34m)\u001b[0m\u001b[0;34m)\u001b[0m\u001b[0;34m\u001b[0m\u001b[0;34m\u001b[0m\u001b[0m\n\u001b[0m\u001b[1;32m    887\u001b[0m \u001b[0;34m\u001b[0m\u001b[0m\n\u001b[1;32m    888\u001b[0m         \u001b[0;32mfor\u001b[0m \u001b[0mdist\u001b[0m \u001b[0;32min\u001b[0m \u001b[0mneeded\u001b[0m\u001b[0;34m:\u001b[0m\u001b[0;34m\u001b[0m\u001b[0;34m\u001b[0m\u001b[0m\n",
            "\u001b[0;32m/usr/local/lib/python3.7/dist-packages/pkg_resources/__init__.py\u001b[0m in \u001b[0;36mresolve\u001b[0;34m(self, requirements, env, installer, replace_conflicting, extras)\u001b[0m\n\u001b[1;32m    778\u001b[0m \u001b[0;34m\u001b[0m\u001b[0m\n\u001b[1;32m    779\u001b[0m             \u001b[0;31m# push the new requirements onto the stack\u001b[0m\u001b[0;34m\u001b[0m\u001b[0;34m\u001b[0m\u001b[0;34m\u001b[0m\u001b[0m\n\u001b[0;32m--> 780\u001b[0;31m             \u001b[0mnew_requirements\u001b[0m \u001b[0;34m=\u001b[0m \u001b[0mdist\u001b[0m\u001b[0;34m.\u001b[0m\u001b[0mrequires\u001b[0m\u001b[0;34m(\u001b[0m\u001b[0mreq\u001b[0m\u001b[0;34m.\u001b[0m\u001b[0mextras\u001b[0m\u001b[0;34m)\u001b[0m\u001b[0;34m[\u001b[0m\u001b[0;34m:\u001b[0m\u001b[0;34m:\u001b[0m\u001b[0;34m-\u001b[0m\u001b[0;36m1\u001b[0m\u001b[0;34m]\u001b[0m\u001b[0;34m\u001b[0m\u001b[0;34m\u001b[0m\u001b[0m\n\u001b[0m\u001b[1;32m    781\u001b[0m             \u001b[0mrequirements\u001b[0m\u001b[0;34m.\u001b[0m\u001b[0mextend\u001b[0m\u001b[0;34m(\u001b[0m\u001b[0mnew_requirements\u001b[0m\u001b[0;34m)\u001b[0m\u001b[0;34m\u001b[0m\u001b[0;34m\u001b[0m\u001b[0m\n\u001b[1;32m    782\u001b[0m \u001b[0;34m\u001b[0m\u001b[0m\n",
            "\u001b[0;32m/usr/local/lib/python3.7/dist-packages/pkg_resources/__init__.py\u001b[0m in \u001b[0;36mrequires\u001b[0;34m(self, extras)\u001b[0m\n\u001b[1;32m   2732\u001b[0m     \u001b[0;32mdef\u001b[0m \u001b[0mrequires\u001b[0m\u001b[0;34m(\u001b[0m\u001b[0mself\u001b[0m\u001b[0;34m,\u001b[0m \u001b[0mextras\u001b[0m\u001b[0;34m=\u001b[0m\u001b[0;34m(\u001b[0m\u001b[0;34m)\u001b[0m\u001b[0;34m)\u001b[0m\u001b[0;34m:\u001b[0m\u001b[0;34m\u001b[0m\u001b[0;34m\u001b[0m\u001b[0m\n\u001b[1;32m   2733\u001b[0m         \u001b[0;34m\"\"\"List of Requirements needed for this distro if `extras` are used\"\"\"\u001b[0m\u001b[0;34m\u001b[0m\u001b[0;34m\u001b[0m\u001b[0m\n\u001b[0;32m-> 2734\u001b[0;31m         \u001b[0mdm\u001b[0m \u001b[0;34m=\u001b[0m \u001b[0mself\u001b[0m\u001b[0;34m.\u001b[0m\u001b[0m_dep_map\u001b[0m\u001b[0;34m\u001b[0m\u001b[0;34m\u001b[0m\u001b[0m\n\u001b[0m\u001b[1;32m   2735\u001b[0m         \u001b[0mdeps\u001b[0m \u001b[0;34m=\u001b[0m \u001b[0;34m[\u001b[0m\u001b[0;34m]\u001b[0m\u001b[0;34m\u001b[0m\u001b[0;34m\u001b[0m\u001b[0m\n\u001b[1;32m   2736\u001b[0m         \u001b[0mdeps\u001b[0m\u001b[0;34m.\u001b[0m\u001b[0mextend\u001b[0m\u001b[0;34m(\u001b[0m\u001b[0mdm\u001b[0m\u001b[0;34m.\u001b[0m\u001b[0mget\u001b[0m\u001b[0;34m(\u001b[0m\u001b[0;32mNone\u001b[0m\u001b[0;34m,\u001b[0m \u001b[0;34m(\u001b[0m\u001b[0;34m)\u001b[0m\u001b[0;34m)\u001b[0m\u001b[0;34m)\u001b[0m\u001b[0;34m\u001b[0m\u001b[0;34m\u001b[0m\u001b[0m\n",
            "\u001b[0;32m/usr/local/lib/python3.7/dist-packages/pkg_resources/__init__.py\u001b[0m in \u001b[0;36m_dep_map\u001b[0;34m(self)\u001b[0m\n\u001b[1;32m   3016\u001b[0m             \u001b[0;32mreturn\u001b[0m \u001b[0mself\u001b[0m\u001b[0;34m.\u001b[0m\u001b[0m__dep_map\u001b[0m\u001b[0;34m\u001b[0m\u001b[0;34m\u001b[0m\u001b[0m\n\u001b[1;32m   3017\u001b[0m         \u001b[0;32mexcept\u001b[0m \u001b[0mAttributeError\u001b[0m\u001b[0;34m:\u001b[0m\u001b[0;34m\u001b[0m\u001b[0;34m\u001b[0m\u001b[0m\n\u001b[0;32m-> 3018\u001b[0;31m             \u001b[0mself\u001b[0m\u001b[0;34m.\u001b[0m\u001b[0m__dep_map\u001b[0m \u001b[0;34m=\u001b[0m \u001b[0mself\u001b[0m\u001b[0;34m.\u001b[0m\u001b[0m_compute_dependencies\u001b[0m\u001b[0;34m(\u001b[0m\u001b[0;34m)\u001b[0m\u001b[0;34m\u001b[0m\u001b[0;34m\u001b[0m\u001b[0m\n\u001b[0m\u001b[1;32m   3019\u001b[0m             \u001b[0;32mreturn\u001b[0m \u001b[0mself\u001b[0m\u001b[0;34m.\u001b[0m\u001b[0m__dep_map\u001b[0m\u001b[0;34m\u001b[0m\u001b[0;34m\u001b[0m\u001b[0m\n\u001b[1;32m   3020\u001b[0m \u001b[0;34m\u001b[0m\u001b[0m\n",
            "\u001b[0;32m/usr/local/lib/python3.7/dist-packages/pkg_resources/__init__.py\u001b[0m in \u001b[0;36m_compute_dependencies\u001b[0;34m(self)\u001b[0m\n\u001b[1;32m   3025\u001b[0m         \u001b[0mreqs\u001b[0m \u001b[0;34m=\u001b[0m \u001b[0;34m[\u001b[0m\u001b[0;34m]\u001b[0m\u001b[0;34m\u001b[0m\u001b[0;34m\u001b[0m\u001b[0m\n\u001b[1;32m   3026\u001b[0m         \u001b[0;31m# Including any condition expressions\u001b[0m\u001b[0;34m\u001b[0m\u001b[0;34m\u001b[0m\u001b[0;34m\u001b[0m\u001b[0m\n\u001b[0;32m-> 3027\u001b[0;31m         \u001b[0;32mfor\u001b[0m \u001b[0mreq\u001b[0m \u001b[0;32min\u001b[0m \u001b[0mself\u001b[0m\u001b[0;34m.\u001b[0m\u001b[0m_parsed_pkg_info\u001b[0m\u001b[0;34m.\u001b[0m\u001b[0mget_all\u001b[0m\u001b[0;34m(\u001b[0m\u001b[0;34m'Requires-Dist'\u001b[0m\u001b[0;34m)\u001b[0m \u001b[0;32mor\u001b[0m \u001b[0;34m[\u001b[0m\u001b[0;34m]\u001b[0m\u001b[0;34m:\u001b[0m\u001b[0;34m\u001b[0m\u001b[0;34m\u001b[0m\u001b[0m\n\u001b[0m\u001b[1;32m   3028\u001b[0m             \u001b[0mreqs\u001b[0m\u001b[0;34m.\u001b[0m\u001b[0mextend\u001b[0m\u001b[0;34m(\u001b[0m\u001b[0mparse_requirements\u001b[0m\u001b[0;34m(\u001b[0m\u001b[0mreq\u001b[0m\u001b[0;34m)\u001b[0m\u001b[0;34m)\u001b[0m\u001b[0;34m\u001b[0m\u001b[0;34m\u001b[0m\u001b[0m\n\u001b[1;32m   3029\u001b[0m \u001b[0;34m\u001b[0m\u001b[0m\n",
            "\u001b[0;32m/usr/local/lib/python3.7/dist-packages/pkg_resources/__init__.py\u001b[0m in \u001b[0;36m_parsed_pkg_info\u001b[0;34m(self)\u001b[0m\n\u001b[1;32m   3007\u001b[0m             \u001b[0;32mreturn\u001b[0m \u001b[0mself\u001b[0m\u001b[0;34m.\u001b[0m\u001b[0m_pkg_info\u001b[0m\u001b[0;34m\u001b[0m\u001b[0;34m\u001b[0m\u001b[0m\n\u001b[1;32m   3008\u001b[0m         \u001b[0;32mexcept\u001b[0m \u001b[0mAttributeError\u001b[0m\u001b[0;34m:\u001b[0m\u001b[0;34m\u001b[0m\u001b[0;34m\u001b[0m\u001b[0m\n\u001b[0;32m-> 3009\u001b[0;31m             \u001b[0mmetadata\u001b[0m \u001b[0;34m=\u001b[0m \u001b[0mself\u001b[0m\u001b[0;34m.\u001b[0m\u001b[0mget_metadata\u001b[0m\u001b[0;34m(\u001b[0m\u001b[0mself\u001b[0m\u001b[0;34m.\u001b[0m\u001b[0mPKG_INFO\u001b[0m\u001b[0;34m)\u001b[0m\u001b[0;34m\u001b[0m\u001b[0;34m\u001b[0m\u001b[0m\n\u001b[0m\u001b[1;32m   3010\u001b[0m             \u001b[0mself\u001b[0m\u001b[0;34m.\u001b[0m\u001b[0m_pkg_info\u001b[0m \u001b[0;34m=\u001b[0m \u001b[0memail\u001b[0m\u001b[0;34m.\u001b[0m\u001b[0mparser\u001b[0m\u001b[0;34m.\u001b[0m\u001b[0mParser\u001b[0m\u001b[0;34m(\u001b[0m\u001b[0;34m)\u001b[0m\u001b[0;34m.\u001b[0m\u001b[0mparsestr\u001b[0m\u001b[0;34m(\u001b[0m\u001b[0mmetadata\u001b[0m\u001b[0;34m)\u001b[0m\u001b[0;34m\u001b[0m\u001b[0;34m\u001b[0m\u001b[0m\n\u001b[1;32m   3011\u001b[0m             \u001b[0;32mreturn\u001b[0m \u001b[0mself\u001b[0m\u001b[0;34m.\u001b[0m\u001b[0m_pkg_info\u001b[0m\u001b[0;34m\u001b[0m\u001b[0;34m\u001b[0m\u001b[0m\n",
            "\u001b[0;32m/usr/local/lib/python3.7/dist-packages/pkg_resources/__init__.py\u001b[0m in \u001b[0;36mget_metadata\u001b[0;34m(self, name)\u001b[0m\n\u001b[1;32m   1405\u001b[0m             \u001b[0;32mreturn\u001b[0m \u001b[0;34m\"\"\u001b[0m\u001b[0;34m\u001b[0m\u001b[0;34m\u001b[0m\u001b[0m\n\u001b[1;32m   1406\u001b[0m         \u001b[0mpath\u001b[0m \u001b[0;34m=\u001b[0m \u001b[0mself\u001b[0m\u001b[0;34m.\u001b[0m\u001b[0m_get_metadata_path\u001b[0m\u001b[0;34m(\u001b[0m\u001b[0mname\u001b[0m\u001b[0;34m)\u001b[0m\u001b[0;34m\u001b[0m\u001b[0;34m\u001b[0m\u001b[0m\n\u001b[0;32m-> 1407\u001b[0;31m         \u001b[0mvalue\u001b[0m \u001b[0;34m=\u001b[0m \u001b[0mself\u001b[0m\u001b[0;34m.\u001b[0m\u001b[0m_get\u001b[0m\u001b[0;34m(\u001b[0m\u001b[0mpath\u001b[0m\u001b[0;34m)\u001b[0m\u001b[0;34m\u001b[0m\u001b[0;34m\u001b[0m\u001b[0m\n\u001b[0m\u001b[1;32m   1408\u001b[0m         \u001b[0;32mtry\u001b[0m\u001b[0;34m:\u001b[0m\u001b[0;34m\u001b[0m\u001b[0;34m\u001b[0m\u001b[0m\n\u001b[1;32m   1409\u001b[0m             \u001b[0;32mreturn\u001b[0m \u001b[0mvalue\u001b[0m\u001b[0;34m.\u001b[0m\u001b[0mdecode\u001b[0m\u001b[0;34m(\u001b[0m\u001b[0;34m'utf-8'\u001b[0m\u001b[0;34m)\u001b[0m\u001b[0;34m\u001b[0m\u001b[0;34m\u001b[0m\u001b[0m\n",
            "\u001b[0;32m/usr/local/lib/python3.7/dist-packages/pkg_resources/__init__.py\u001b[0m in \u001b[0;36m_get\u001b[0;34m(self, path)\u001b[0m\n\u001b[1;32m   1609\u001b[0m \u001b[0;34m\u001b[0m\u001b[0m\n\u001b[1;32m   1610\u001b[0m     \u001b[0;32mdef\u001b[0m \u001b[0m_get\u001b[0m\u001b[0;34m(\u001b[0m\u001b[0mself\u001b[0m\u001b[0;34m,\u001b[0m \u001b[0mpath\u001b[0m\u001b[0;34m)\u001b[0m\u001b[0;34m:\u001b[0m\u001b[0;34m\u001b[0m\u001b[0;34m\u001b[0m\u001b[0m\n\u001b[0;32m-> 1611\u001b[0;31m         \u001b[0;32mwith\u001b[0m \u001b[0mopen\u001b[0m\u001b[0;34m(\u001b[0m\u001b[0mpath\u001b[0m\u001b[0;34m,\u001b[0m \u001b[0;34m'rb'\u001b[0m\u001b[0;34m)\u001b[0m \u001b[0;32mas\u001b[0m \u001b[0mstream\u001b[0m\u001b[0;34m:\u001b[0m\u001b[0;34m\u001b[0m\u001b[0;34m\u001b[0m\u001b[0m\n\u001b[0m\u001b[1;32m   1612\u001b[0m             \u001b[0;32mreturn\u001b[0m \u001b[0mstream\u001b[0m\u001b[0;34m.\u001b[0m\u001b[0mread\u001b[0m\u001b[0;34m(\u001b[0m\u001b[0;34m)\u001b[0m\u001b[0;34m\u001b[0m\u001b[0;34m\u001b[0m\u001b[0m\n\u001b[1;32m   1613\u001b[0m \u001b[0;34m\u001b[0m\u001b[0m\n",
            "\u001b[0;31mFileNotFoundError\u001b[0m: [Errno 2] No such file or directory: '/usr/local/lib/python3.7/dist-packages/tqdm-4.64.0.dist-info/METADATA'"
          ]
        }
      ]
    },
    {
      "cell_type": "code",
      "source": [
        "!python3 run_multi.py \\\n",
        "    --model_name_or_path google/mt5-small \\\n",
        "    --model_type mt5 \\\n",
        "    --tokenizer_name_or_path mt5_qg_tokenizer \\\n",
        "    --output_dir mt5-small-multi \\\n",
        "    --train_file_path data/train_data_multitask_mt5.pt \\\n",
        "    --valid_file_path data/valid_data_multitask_mt5.pt \\\n",
        "    --per_device_train_batch_size 2 \\\n",
        "    --per_device_eval_batch_size 2 \\\n",
        "    --gradient_accumulation_steps 2 \\\n",
        "    --learning_rate 1e-4 \\\n",
        "    --num_train_epochs 1 \\\n",
        "    --seed 42 \\\n",
        "    --do_train \\\n",
        "    --do_eval \\\n",
        "    --logging_steps 100 \\\n",
        "    --prediction_loss_only True"
      ],
      "metadata": {
        "colab": {
          "base_uri": "https://localhost:8080/"
        },
        "id": "GQy2b-4fGRZs",
        "outputId": "9df1e93d-8ffd-45da-c2a4-86118a45c303"
      },
      "execution_count": 7,
      "outputs": [
        {
          "output_type": "stream",
          "name": "stdout",
          "text": [
            "06/05/2022 09:21:27 - WARNING - __main__ -   Process rank: -1, device: cuda:0, n_gpu: 1, distributed training: False, 16-bits training: False\n",
            "06/05/2022 09:21:27 - INFO - __main__ -   Training/evaluation parameters TrainingArguments(output_dir=mt5-small-multi, overwrite_output_dir=False, do_train=True, do_eval=True, do_predict=False, evaluation_strategy=IntervalStrategy.NO, prediction_loss_only=True, per_device_train_batch_size=2, per_device_eval_batch_size=2, gradient_accumulation_steps=2, eval_accumulation_steps=None, learning_rate=0.0001, weight_decay=0.0, adam_beta1=0.9, adam_beta2=0.999, adam_epsilon=1e-08, max_grad_norm=1.0, num_train_epochs=1.0, max_steps=-1, lr_scheduler_type=SchedulerType.LINEAR, warmup_ratio=0.0, warmup_steps=0, logging_dir=runs/Jun05_09-21-27_039893ac00e3, logging_strategy=IntervalStrategy.STEPS, logging_first_step=False, logging_steps=100, save_strategy=IntervalStrategy.STEPS, save_steps=500, save_total_limit=None, no_cuda=False, seed=42, fp16=False, fp16_opt_level=O1, fp16_backend=auto, fp16_full_eval=False, local_rank=-1, tpu_num_cores=None, tpu_metrics_debug=False, debug=False, dataloader_drop_last=False, eval_steps=100, dataloader_num_workers=0, past_index=-1, run_name=mt5-small-multi, disable_tqdm=False, remove_unused_columns=True, label_names=None, load_best_model_at_end=False, metric_for_best_model=None, greater_is_better=None, ignore_data_skip=False, sharded_ddp=[], deepspeed=None, label_smoothing_factor=0.0, adafactor=False, group_by_length=False, report_to=['tensorboard'], ddp_find_unused_parameters=None, dataloader_pin_memory=True, skip_memory_metrics=False, _n_gpu=1)\n",
            "06/05/2022 09:21:35 - INFO - __main__ -   loading dataset\n",
            "06/05/2022 09:21:37 - INFO - nlp.utils.file_utils -   PyTorch version 1.11.0+cu113 available.\n",
            "06/05/2022 09:21:37 - INFO - nlp.utils.file_utils -   TensorFlow version 2.8.2 available.\n",
            "06/05/2022 09:21:38 - INFO - __main__ -   finished loading dataset\n",
            "/usr/local/lib/python3.7/dist-packages/transformers/trainer.py:836: FutureWarning: `model_path` is deprecated and will be removed in a future version. Use `resume_from_checkpoint` instead.\n",
            "  FutureWarning,\n",
            "{'loss': 15.4873, 'learning_rate': 9.939113492450074e-05, 'epoch': 0.01}\n",
            "{'loss': 8.0301, 'learning_rate': 9.878226984900147e-05, 'epoch': 0.01}\n",
            "{'loss': 6.5354, 'learning_rate': 9.81734047735022e-05, 'epoch': 0.02}\n",
            "{'loss': 5.6543, 'learning_rate': 9.756453969800294e-05, 'epoch': 0.02}\n",
            "{'loss': 5.3003, 'learning_rate': 9.695567462250366e-05, 'epoch': 0.03}\n",
            "{'loss': 4.8166, 'learning_rate': 9.634680954700439e-05, 'epoch': 0.04}\n",
            "{'loss': 4.5888, 'learning_rate': 9.573794447150511e-05, 'epoch': 0.04}\n",
            "{'loss': 4.4145, 'learning_rate': 9.512907939600585e-05, 'epoch': 0.05}\n",
            "{'loss': 4.1473, 'learning_rate': 9.452021432050658e-05, 'epoch': 0.05}\n",
            "{'loss': 3.981, 'learning_rate': 9.39113492450073e-05, 'epoch': 0.06}\n",
            "{'loss': 3.8832, 'learning_rate': 9.330248416950804e-05, 'epoch': 0.07}\n",
            "{'loss': 3.601, 'learning_rate': 9.269361909400878e-05, 'epoch': 0.07}\n",
            "{'loss': 3.6868, 'learning_rate': 9.20847540185095e-05, 'epoch': 0.08}\n",
            "{'loss': 3.511, 'learning_rate': 9.147588894301024e-05, 'epoch': 0.09}\n",
            "{'loss': 3.5259, 'learning_rate': 9.086702386751096e-05, 'epoch': 0.09}\n",
            "{'loss': 3.3862, 'learning_rate': 9.025815879201169e-05, 'epoch': 0.1}\n",
            "{'loss': 3.4406, 'learning_rate': 8.964929371651242e-05, 'epoch': 0.1}\n",
            "{'loss': 3.2436, 'learning_rate': 8.904042864101315e-05, 'epoch': 0.11}\n",
            "{'loss': 3.3283, 'learning_rate': 8.843156356551388e-05, 'epoch': 0.12}\n",
            "{'loss': 3.3052, 'learning_rate': 8.782269849001462e-05, 'epoch': 0.12}\n",
            "{'loss': 3.1843, 'learning_rate': 8.721383341451534e-05, 'epoch': 0.13}\n",
            "{'loss': 3.0849, 'learning_rate': 8.660496833901608e-05, 'epoch': 0.13}\n",
            "{'loss': 2.9035, 'learning_rate': 8.599610326351682e-05, 'epoch': 0.14}\n",
            "{'loss': 3.0701, 'learning_rate': 8.538723818801754e-05, 'epoch': 0.15}\n",
            "{'loss': 2.9708, 'learning_rate': 8.477837311251828e-05, 'epoch': 0.15}\n",
            "{'loss': 3.0847, 'learning_rate': 8.4169508037019e-05, 'epoch': 0.16}\n",
            "{'loss': 2.9796, 'learning_rate': 8.356064296151973e-05, 'epoch': 0.16}\n",
            "{'loss': 3.0146, 'learning_rate': 8.295177788602046e-05, 'epoch': 0.17}\n",
            "{'loss': 2.8332, 'learning_rate': 8.234291281052119e-05, 'epoch': 0.18}\n",
            "{'loss': 2.9804, 'learning_rate': 8.173404773502192e-05, 'epoch': 0.18}\n",
            "{'loss': 2.9414, 'learning_rate': 8.112518265952266e-05, 'epoch': 0.19}\n",
            "{'loss': 2.9459, 'learning_rate': 8.051631758402338e-05, 'epoch': 0.19}\n",
            "{'loss': 2.9343, 'learning_rate': 7.990745250852412e-05, 'epoch': 0.2}\n",
            "{'loss': 2.8159, 'learning_rate': 7.929858743302484e-05, 'epoch': 0.21}\n",
            "{'loss': 2.7585, 'learning_rate': 7.868972235752558e-05, 'epoch': 0.21}\n",
            "{'loss': 2.7308, 'learning_rate': 7.80808572820263e-05, 'epoch': 0.22}\n",
            "{'loss': 2.7642, 'learning_rate': 7.747199220652703e-05, 'epoch': 0.23}\n",
            "{'loss': 2.761, 'learning_rate': 7.686312713102776e-05, 'epoch': 0.23}\n",
            "{'loss': 2.5355, 'learning_rate': 7.62542620555285e-05, 'epoch': 0.24}\n",
            "{'loss': 2.7041, 'learning_rate': 7.564539698002922e-05, 'epoch': 0.24}\n",
            "{'loss': 2.6742, 'learning_rate': 7.503653190452996e-05, 'epoch': 0.25}\n",
            "{'loss': 2.708, 'learning_rate': 7.44276668290307e-05, 'epoch': 0.26}\n",
            "{'loss': 2.6744, 'learning_rate': 7.381880175353142e-05, 'epoch': 0.26}\n",
            "{'loss': 2.7269, 'learning_rate': 7.320993667803216e-05, 'epoch': 0.27}\n",
            "{'loss': 2.7255, 'learning_rate': 7.260107160253288e-05, 'epoch': 0.27}\n",
            "{'loss': 2.5054, 'learning_rate': 7.199220652703362e-05, 'epoch': 0.28}\n",
            "{'loss': 2.5751, 'learning_rate': 7.138334145153434e-05, 'epoch': 0.29}\n",
            "{'loss': 2.5753, 'learning_rate': 7.077447637603507e-05, 'epoch': 0.29}\n",
            "{'loss': 2.4975, 'learning_rate': 7.01656113005358e-05, 'epoch': 0.3}\n",
            "{'loss': 2.5423, 'learning_rate': 6.955674622503654e-05, 'epoch': 0.3}\n",
            "{'loss': 2.5219, 'learning_rate': 6.894788114953726e-05, 'epoch': 0.31}\n",
            "{'loss': 2.5269, 'learning_rate': 6.8339016074038e-05, 'epoch': 0.32}\n",
            "{'loss': 2.464, 'learning_rate': 6.773015099853872e-05, 'epoch': 0.32}\n",
            "{'loss': 2.5043, 'learning_rate': 6.712128592303946e-05, 'epoch': 0.33}\n",
            "{'loss': 2.4599, 'learning_rate': 6.65124208475402e-05, 'epoch': 0.33}\n",
            "{'loss': 2.5625, 'learning_rate': 6.590355577204092e-05, 'epoch': 0.34}\n",
            "{'loss': 2.4754, 'learning_rate': 6.529469069654164e-05, 'epoch': 0.35}\n",
            "{'loss': 2.5058, 'learning_rate': 6.468582562104238e-05, 'epoch': 0.35}\n",
            "{'loss': 2.376, 'learning_rate': 6.40769605455431e-05, 'epoch': 0.36}\n",
            "{'loss': 2.4723, 'learning_rate': 6.346809547004384e-05, 'epoch': 0.37}\n",
            "{'loss': 2.4236, 'learning_rate': 6.285923039454458e-05, 'epoch': 0.37}\n",
            "{'loss': 2.3929, 'learning_rate': 6.22503653190453e-05, 'epoch': 0.38}\n",
            "{'loss': 2.4052, 'learning_rate': 6.164150024354604e-05, 'epoch': 0.38}\n",
            "{'loss': 2.4323, 'learning_rate': 6.103263516804676e-05, 'epoch': 0.39}\n",
            "{'loss': 2.3611, 'learning_rate': 6.042377009254749e-05, 'epoch': 0.4}\n",
            "{'loss': 2.4355, 'learning_rate': 5.981490501704823e-05, 'epoch': 0.4}\n",
            "{'loss': 2.3685, 'learning_rate': 5.920603994154895e-05, 'epoch': 0.41}\n",
            "{'loss': 2.2547, 'learning_rate': 5.859717486604969e-05, 'epoch': 0.41}\n",
            "{'loss': 2.2673, 'learning_rate': 5.798830979055042e-05, 'epoch': 0.42}\n",
            "{'loss': 2.3335, 'learning_rate': 5.737944471505114e-05, 'epoch': 0.43}\n",
            "{'loss': 2.3064, 'learning_rate': 5.677057963955188e-05, 'epoch': 0.43}\n",
            "{'loss': 2.4243, 'learning_rate': 5.61617145640526e-05, 'epoch': 0.44}\n",
            "{'loss': 2.4691, 'learning_rate': 5.555284948855334e-05, 'epoch': 0.44}\n",
            "{'loss': 2.3285, 'learning_rate': 5.4943984413054076e-05, 'epoch': 0.45}\n",
            "{'loss': 2.3968, 'learning_rate': 5.43351193375548e-05, 'epoch': 0.46}\n",
            "{'loss': 2.2822, 'learning_rate': 5.372625426205553e-05, 'epoch': 0.46}\n",
            "{'loss': 2.1678, 'learning_rate': 5.3117389186556266e-05, 'epoch': 0.47}\n",
            "{'loss': 2.193, 'learning_rate': 5.250852411105699e-05, 'epoch': 0.47}\n",
            "{'loss': 2.4609, 'learning_rate': 5.1899659035557727e-05, 'epoch': 0.48}\n",
            "{'loss': 2.2385, 'learning_rate': 5.129079396005846e-05, 'epoch': 0.49}\n",
            "{'loss': 2.2481, 'learning_rate': 5.068192888455918e-05, 'epoch': 0.49}\n",
            "{'loss': 2.3158, 'learning_rate': 5.007306380905992e-05, 'epoch': 0.5}\n",
            "{'loss': 2.3322, 'learning_rate': 4.946419873356065e-05, 'epoch': 0.51}\n",
            "{'loss': 2.1778, 'learning_rate': 4.885533365806138e-05, 'epoch': 0.51}\n",
            "{'loss': 2.3726, 'learning_rate': 4.824646858256211e-05, 'epoch': 0.52}\n",
            "{'loss': 2.3184, 'learning_rate': 4.763760350706284e-05, 'epoch': 0.52}\n",
            "{'loss': 2.2642, 'learning_rate': 4.702873843156357e-05, 'epoch': 0.53}\n",
            "{'loss': 2.2934, 'learning_rate': 4.64198733560643e-05, 'epoch': 0.54}\n",
            "{'loss': 2.2671, 'learning_rate': 4.581100828056503e-05, 'epoch': 0.54}\n",
            "{'loss': 2.3165, 'learning_rate': 4.520214320506576e-05, 'epoch': 0.55}\n",
            "{'loss': 2.3104, 'learning_rate': 4.459327812956649e-05, 'epoch': 0.55}\n",
            "{'loss': 2.3182, 'learning_rate': 4.398441305406722e-05, 'epoch': 0.56}\n",
            "{'loss': 2.2638, 'learning_rate': 4.3375547978567955e-05, 'epoch': 0.57}\n",
            "{'loss': 2.1394, 'learning_rate': 4.2766682903068685e-05, 'epoch': 0.57}\n",
            "{'loss': 2.1405, 'learning_rate': 4.2157817827569416e-05, 'epoch': 0.58}\n",
            "{'loss': 2.3305, 'learning_rate': 4.154895275207014e-05, 'epoch': 0.58}\n",
            "{'loss': 2.1085, 'learning_rate': 4.0940087676570876e-05, 'epoch': 0.59}\n",
            "{'loss': 2.1852, 'learning_rate': 4.0331222601071606e-05, 'epoch': 0.6}\n",
            "{'loss': 2.2021, 'learning_rate': 3.9722357525572336e-05, 'epoch': 0.6}\n",
            "{'loss': 2.2076, 'learning_rate': 3.9113492450073066e-05, 'epoch': 0.61}\n",
            "{'loss': 2.1579, 'learning_rate': 3.8504627374573796e-05, 'epoch': 0.61}\n",
            "{'loss': 2.2059, 'learning_rate': 3.7895762299074527e-05, 'epoch': 0.62}\n",
            "{'loss': 2.1987, 'learning_rate': 3.728689722357526e-05, 'epoch': 0.63}\n",
            "{'loss': 2.2283, 'learning_rate': 3.667803214807599e-05, 'epoch': 0.63}\n",
            "{'loss': 2.2225, 'learning_rate': 3.6069167072576724e-05, 'epoch': 0.64}\n",
            "{'loss': 2.0801, 'learning_rate': 3.546030199707745e-05, 'epoch': 0.65}\n",
            "{'loss': 2.1599, 'learning_rate': 3.485143692157818e-05, 'epoch': 0.65}\n",
            "{'loss': 2.1538, 'learning_rate': 3.424257184607891e-05, 'epoch': 0.66}\n",
            "{'loss': 2.1652, 'learning_rate': 3.3633706770579644e-05, 'epoch': 0.66}\n",
            "{'loss': 2.2648, 'learning_rate': 3.3024841695080374e-05, 'epoch': 0.67}\n",
            "{'loss': 2.1537, 'learning_rate': 3.24159766195811e-05, 'epoch': 0.68}\n",
            "{'loss': 2.1719, 'learning_rate': 3.1807111544081835e-05, 'epoch': 0.68}\n",
            "{'loss': 2.1602, 'learning_rate': 3.1198246468582565e-05, 'epoch': 0.69}\n",
            "{'loss': 2.2337, 'learning_rate': 3.0589381393083295e-05, 'epoch': 0.69}\n",
            "{'loss': 2.1679, 'learning_rate': 2.9980516317584022e-05, 'epoch': 0.7}\n",
            "{'loss': 2.0585, 'learning_rate': 2.937165124208476e-05, 'epoch': 0.71}\n",
            "{'loss': 2.101, 'learning_rate': 2.8762786166585485e-05, 'epoch': 0.71}\n",
            "{'loss': 1.9934, 'learning_rate': 2.8153921091086216e-05, 'epoch': 0.72}\n",
            "{'loss': 2.0381, 'learning_rate': 2.7545056015586946e-05, 'epoch': 0.72}\n",
            "{'loss': 2.049, 'learning_rate': 2.693619094008768e-05, 'epoch': 0.73}\n",
            "{'loss': 2.1864, 'learning_rate': 2.632732586458841e-05, 'epoch': 0.74}\n",
            "{'loss': 2.1751, 'learning_rate': 2.571846078908914e-05, 'epoch': 0.74}\n",
            "{'loss': 2.1873, 'learning_rate': 2.5109595713589866e-05, 'epoch': 0.75}\n",
            "{'loss': 2.1156, 'learning_rate': 2.45007306380906e-05, 'epoch': 0.75}\n",
            "{'loss': 2.1569, 'learning_rate': 2.389186556259133e-05, 'epoch': 0.76}\n",
            "{'loss': 2.1163, 'learning_rate': 2.328300048709206e-05, 'epoch': 0.77}\n",
            "{'loss': 2.1779, 'learning_rate': 2.2674135411592794e-05, 'epoch': 0.77}\n",
            "{'loss': 2.1, 'learning_rate': 2.206527033609352e-05, 'epoch': 0.78}\n",
            "{'loss': 2.1863, 'learning_rate': 2.1456405260594254e-05, 'epoch': 0.79}\n",
            "{'loss': 2.1525, 'learning_rate': 2.0847540185094984e-05, 'epoch': 0.79}\n",
            "{'loss': 2.1012, 'learning_rate': 2.0238675109595714e-05, 'epoch': 0.8}\n",
            "{'loss': 2.1597, 'learning_rate': 1.9629810034096448e-05, 'epoch': 0.8}\n",
            "{'loss': 2.1471, 'learning_rate': 1.9020944958597174e-05, 'epoch': 0.81}\n",
            "{'loss': 2.0469, 'learning_rate': 1.8412079883097908e-05, 'epoch': 0.82}\n",
            "{'loss': 2.1132, 'learning_rate': 1.7803214807598638e-05, 'epoch': 0.82}\n",
            "{'loss': 2.0617, 'learning_rate': 1.7194349732099368e-05, 'epoch': 0.83}\n",
            "{'loss': 2.1205, 'learning_rate': 1.65854846566001e-05, 'epoch': 0.83}\n",
            "{'loss': 2.1271, 'learning_rate': 1.597661958110083e-05, 'epoch': 0.84}\n",
            "{'loss': 2.1154, 'learning_rate': 1.536775450560156e-05, 'epoch': 0.85}\n",
            "{'loss': 2.0762, 'learning_rate': 1.475888943010229e-05, 'epoch': 0.85}\n",
            "{'loss': 2.1361, 'learning_rate': 1.4150024354603019e-05, 'epoch': 0.86}\n",
            "{'loss': 2.0441, 'learning_rate': 1.3541159279103752e-05, 'epoch': 0.86}\n",
            "{'loss': 2.1314, 'learning_rate': 1.2932294203604481e-05, 'epoch': 0.87}\n",
            "{'loss': 2.1562, 'learning_rate': 1.2323429128105213e-05, 'epoch': 0.88}\n",
            "{'loss': 2.1083, 'learning_rate': 1.1714564052605943e-05, 'epoch': 0.88}\n",
            "{'loss': 2.1781, 'learning_rate': 1.1105698977106673e-05, 'epoch': 0.89}\n",
            "{'loss': 2.0411, 'learning_rate': 1.0496833901607405e-05, 'epoch': 0.9}\n",
            "{'loss': 2.0286, 'learning_rate': 9.887968826108135e-06, 'epoch': 0.9}\n",
            "{'loss': 2.0688, 'learning_rate': 9.279103750608865e-06, 'epoch': 0.91}\n",
            "{'loss': 2.0511, 'learning_rate': 8.670238675109595e-06, 'epoch': 0.91}\n",
            "{'loss': 2.2294, 'learning_rate': 8.061373599610327e-06, 'epoch': 0.92}\n",
            "{'loss': 2.0672, 'learning_rate': 7.452508524111057e-06, 'epoch': 0.93}\n",
            "{'loss': 2.0919, 'learning_rate': 6.843643448611787e-06, 'epoch': 0.93}\n",
            "{'loss': 2.1442, 'learning_rate': 6.234778373112518e-06, 'epoch': 0.94}\n",
            "{'loss': 2.1034, 'learning_rate': 5.625913297613249e-06, 'epoch': 0.94}\n",
            "{'loss': 2.0394, 'learning_rate': 5.0170482221139795e-06, 'epoch': 0.95}\n",
            "{'loss': 1.994, 'learning_rate': 4.4081831466147105e-06, 'epoch': 0.96}\n",
            "{'loss': 2.0185, 'learning_rate': 3.799318071115441e-06, 'epoch': 0.96}\n",
            "{'loss': 2.066, 'learning_rate': 3.1904529956161716e-06, 'epoch': 0.97}\n",
            "{'loss': 2.1255, 'learning_rate': 2.581587920116902e-06, 'epoch': 0.97}\n",
            "{'loss': 2.0626, 'learning_rate': 1.9727228446176328e-06, 'epoch': 0.98}\n",
            "{'loss': 1.9634, 'learning_rate': 1.3638577691183635e-06, 'epoch': 0.99}\n",
            "{'loss': 2.1008, 'learning_rate': 7.549926936190941e-07, 'epoch': 0.99}\n",
            "{'loss': 2.1171, 'learning_rate': 1.4612761811982466e-07, 'epoch': 1.0}\n",
            "{'train_runtime': 5626.1125, 'train_samples_per_second': 2.919, 'epoch': 1.0}\n",
            "100% 16424/16424 [1:33:46<00:00,  2.92it/s]\n",
            "06/05/2022 10:55:36 - INFO - __main__ -   *** Evaluate ***\n",
            "100% 7941/7941 [04:13<00:00, 31.28it/s]\n",
            "06/05/2022 10:59:50 - INFO - __main__ -   ***** Eval results *****\n",
            "06/05/2022 10:59:50 - INFO - __main__ -     epoch = 1.0\n",
            "06/05/2022 10:59:50 - INFO - __main__ -     eval_loss = 1.7839418649673462\n",
            "06/05/2022 10:59:50 - INFO - __main__ -     eval_mem_cpu_alloc_delta = 79565\n",
            "06/05/2022 10:59:50 - INFO - __main__ -     eval_mem_cpu_peaked_delta = 735560\n",
            "06/05/2022 10:59:50 - INFO - __main__ -     eval_mem_gpu_alloc_delta = 0\n",
            "06/05/2022 10:59:50 - INFO - __main__ -     eval_mem_gpu_peaked_delta = 335092224\n",
            "06/05/2022 10:59:50 - INFO - __main__ -     eval_runtime = 253.8851\n",
            "06/05/2022 10:59:50 - INFO - __main__ -     eval_samples_per_second = 62.552\n"
          ]
        }
      ]
    },
    {
      "cell_type": "code",
      "source": [
        "from pipelines import pipeline\n",
        "pipe = pipeline(\"multitask-qa-qg\", model = \"mt5-small-multi\")"
      ],
      "metadata": {
        "collapsed": true,
        "id": "V4fG2qwTk2Y7"
      },
      "execution_count": 9,
      "outputs": []
    },
    {
      "cell_type": "code",
      "source": [
        "text1 = \"Pangeran Harya Dipanegara (atau biasa dikenal dengan nama Pangeran Diponegoro, lahir di Ngayogyakarta Hadiningrat, 11 November 1785 – meninggal di Makassar, Hindia Belanda, 8 Januari 1855 pada umur 69 tahun) adalah salah seorang pahlawan nasional Republik Indonesia, yang memimpin Perang Diponegoro atau Perang Jawa selama periode tahun 1825 hingga 1830 melawan pemerintah Hindia Belanda. Sejarah mencatat, Perang Diponegoro atau Perang Jawa dikenal sebagai perang yang menelan korban terbanyak dalam sejarah Indonesia, yakni 8.000 korban serdadu Hindia Belanda, 7.000 pribumi, dan 200 ribu orang Jawa serta kerugian materi 25 juta Gulden.\""
      ],
      "metadata": {
        "id": "JzpJ7gLfl1c_"
      },
      "execution_count": 10,
      "outputs": []
    },
    {
      "cell_type": "code",
      "source": [
        "pipe(text1)"
      ],
      "metadata": {
        "colab": {
          "base_uri": "https://localhost:8080/"
        },
        "collapsed": true,
        "id": "t4IY1C1Ol5RQ",
        "outputId": "946b2bcb-a732-4fee-d7ac-d122d404a576"
      },
      "execution_count": 11,
      "outputs": [
        {
          "output_type": "stream",
          "name": "stderr",
          "text": [
            "/usr/local/lib/python3.7/dist-packages/transformers/generation_utils.py:1764: UserWarning: __floordiv__ is deprecated, and its behavior will change in a future version of pytorch. It currently rounds toward 0 (like the 'trunc' function NOT 'floor'). This results in incorrect rounding for negative values. To keep the current behavior, use torch.div(a, b, rounding_mode='trunc'), or for actual floor division, use torch.div(a, b, rounding_mode='floor').\n",
            "  next_indices = next_tokens // vocab_size\n"
          ]
        },
        {
          "output_type": "execute_result",
          "data": {
            "text/plain": [
              "[{'answer': '1785', 'question': 'Kapan Pangeran Harya Dipanegara meninggal?'},\n",
              " {'answer': '8.000',\n",
              "  'question': 'Berapa banyak korban serdadu Hindia Belanda?'}]"
            ]
          },
          "metadata": {},
          "execution_count": 11
        }
      ]
    }
  ]
}