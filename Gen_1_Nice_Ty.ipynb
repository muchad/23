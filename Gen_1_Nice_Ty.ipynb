{
  "nbformat": 4,
  "nbformat_minor": 0,
  "metadata": {
    "colab": {
      "name": "T5Gen_1.ipynb",
      "provenance": [],
      "collapsed_sections": [],
      "mount_file_id": "1gYwDSBxu4Tivb7F60p7nTks49G6-PtYj",
      "authorship_tag": "ABX9TyNkYPeh0N6uNyKEYNR5L44U",
      "include_colab_link": true
    },
    "kernelspec": {
      "name": "python3",
      "display_name": "Python 3"
    },
    "language_info": {
      "name": "python"
    }
  },
  "cells": [
    {
      "cell_type": "markdown",
      "metadata": {
        "id": "view-in-github",
        "colab_type": "text"
      },
      "source": [
        "<a href=\"https://colab.research.google.com/github/muchad/23/blob/main/Gen_1_Nice_Ty.ipynb\" target=\"_parent\"><img src=\"https://colab.research.google.com/assets/colab-badge.svg\" alt=\"Open In Colab\"/></a>"
      ]
    },
    {
      "cell_type": "code",
      "execution_count": 1,
      "metadata": {
        "colab": {
          "base_uri": "https://localhost:8080/"
        },
        "collapsed": true,
        "id": "hHTQaV3nQXsy",
        "outputId": "7efe364e-da60-44ca-e890-a23d88073a6f"
      },
      "outputs": [
        {
          "output_type": "stream",
          "name": "stdout",
          "text": [
            "Looking in indexes: https://pypi.org/simple, https://us-python.pkg.dev/colab-wheels/public/simple/\n",
            "Collecting transformers==4.4.2\n",
            "  Downloading transformers-4.4.2-py3-none-any.whl (2.0 MB)\n",
            "\u001b[K     |████████████████████████████████| 2.0 MB 26.3 MB/s \n",
            "\u001b[?25hRequirement already satisfied: filelock in /usr/local/lib/python3.7/dist-packages (from transformers==4.4.2) (3.7.0)\n",
            "Requirement already satisfied: regex!=2019.12.17 in /usr/local/lib/python3.7/dist-packages (from transformers==4.4.2) (2019.12.20)\n",
            "Collecting sacremoses\n",
            "  Downloading sacremoses-0.0.53.tar.gz (880 kB)\n",
            "\u001b[K     |████████████████████████████████| 880 kB 35.9 MB/s \n",
            "\u001b[?25hRequirement already satisfied: requests in /usr/local/lib/python3.7/dist-packages (from transformers==4.4.2) (2.23.0)\n",
            "Requirement already satisfied: packaging in /usr/local/lib/python3.7/dist-packages (from transformers==4.4.2) (21.3)\n",
            "Requirement already satisfied: importlib-metadata in /usr/local/lib/python3.7/dist-packages (from transformers==4.4.2) (4.11.4)\n",
            "Collecting tokenizers<0.11,>=0.10.1\n",
            "  Downloading tokenizers-0.10.3-cp37-cp37m-manylinux_2_5_x86_64.manylinux1_x86_64.manylinux_2_12_x86_64.manylinux2010_x86_64.whl (3.3 MB)\n",
            "\u001b[K     |████████████████████████████████| 3.3 MB 47.2 MB/s \n",
            "\u001b[?25hRequirement already satisfied: numpy>=1.17 in /usr/local/lib/python3.7/dist-packages (from transformers==4.4.2) (1.21.6)\n",
            "Requirement already satisfied: tqdm>=4.27 in /usr/local/lib/python3.7/dist-packages (from transformers==4.4.2) (4.64.0)\n",
            "Requirement already satisfied: typing-extensions>=3.6.4 in /usr/local/lib/python3.7/dist-packages (from importlib-metadata->transformers==4.4.2) (4.2.0)\n",
            "Requirement already satisfied: zipp>=0.5 in /usr/local/lib/python3.7/dist-packages (from importlib-metadata->transformers==4.4.2) (3.8.0)\n",
            "Requirement already satisfied: pyparsing!=3.0.5,>=2.0.2 in /usr/local/lib/python3.7/dist-packages (from packaging->transformers==4.4.2) (3.0.9)\n",
            "Requirement already satisfied: certifi>=2017.4.17 in /usr/local/lib/python3.7/dist-packages (from requests->transformers==4.4.2) (2022.5.18.1)\n",
            "Requirement already satisfied: chardet<4,>=3.0.2 in /usr/local/lib/python3.7/dist-packages (from requests->transformers==4.4.2) (3.0.4)\n",
            "Requirement already satisfied: urllib3!=1.25.0,!=1.25.1,<1.26,>=1.21.1 in /usr/local/lib/python3.7/dist-packages (from requests->transformers==4.4.2) (1.24.3)\n",
            "Requirement already satisfied: idna<3,>=2.5 in /usr/local/lib/python3.7/dist-packages (from requests->transformers==4.4.2) (2.10)\n",
            "Requirement already satisfied: six in /usr/local/lib/python3.7/dist-packages (from sacremoses->transformers==4.4.2) (1.15.0)\n",
            "Requirement already satisfied: click in /usr/local/lib/python3.7/dist-packages (from sacremoses->transformers==4.4.2) (7.1.2)\n",
            "Requirement already satisfied: joblib in /usr/local/lib/python3.7/dist-packages (from sacremoses->transformers==4.4.2) (1.1.0)\n",
            "Building wheels for collected packages: sacremoses\n",
            "  Building wheel for sacremoses (setup.py) ... \u001b[?25l\u001b[?25hdone\n",
            "  Created wheel for sacremoses: filename=sacremoses-0.0.53-py3-none-any.whl size=895260 sha256=1d50942ea4915daa1fa5fb46c2553dd96d18cbb1ae3613e28e6355880db5daf8\n",
            "  Stored in directory: /root/.cache/pip/wheels/87/39/dd/a83eeef36d0bf98e7a4d1933a4ad2d660295a40613079bafc9\n",
            "Successfully built sacremoses\n",
            "Installing collected packages: tokenizers, sacremoses, transformers\n",
            "Successfully installed sacremoses-0.0.53 tokenizers-0.10.3 transformers-4.4.2\n",
            "Looking in indexes: https://pypi.org/simple, https://us-python.pkg.dev/colab-wheels/public/simple/\n",
            "Collecting sentencepiece==0.1.95\n",
            "  Downloading sentencepiece-0.1.95-cp37-cp37m-manylinux2014_x86_64.whl (1.2 MB)\n",
            "\u001b[K     |████████████████████████████████| 1.2 MB 31.1 MB/s \n",
            "\u001b[?25hInstalling collected packages: sentencepiece\n",
            "Successfully installed sentencepiece-0.1.95\n",
            "Looking in indexes: https://pypi.org/simple, https://us-python.pkg.dev/colab-wheels/public/simple/\n",
            "Requirement already satisfied: nltk in /usr/local/lib/python3.7/dist-packages (3.2.5)\n",
            "Requirement already satisfied: six in /usr/local/lib/python3.7/dist-packages (from nltk) (1.15.0)\n",
            "/usr/lib/python3.7/runpy.py:125: RuntimeWarning: 'nltk.downloader' found in sys.modules after import of package 'nltk', but prior to execution of 'nltk.downloader'; this may result in unpredictable behaviour\n",
            "  warn(RuntimeWarning(msg))\n",
            "[nltk_data] Downloading package punkt to /root/nltk_data...\n",
            "[nltk_data]   Unzipping tokenizers/punkt.zip.\n"
          ]
        }
      ],
      "source": [
        "!pip install transformers==4.4.2\n",
        "!pip install sentencepiece==0.1.95\n",
        "# !pip install datasets==1.5.0\n",
        "# !pip install nlp==0.4.0\n",
        "!pip install nltk\n",
        "!python -m nltk.downloader punkt"
      ]
    },
    {
      "cell_type": "code",
      "source": [
        "from google.colab import drive\n",
        "drive.mount('/content/gdrive')\n",
        "%cd gdrive/My Drive/Colab Notebooks/QG_id_mt5_ty"
      ],
      "metadata": {
        "colab": {
          "base_uri": "https://localhost:8080/"
        },
        "collapsed": true,
        "id": "7yfBMPXuUsGj",
        "outputId": "ed593559-f717-417f-85f9-9cbd0b4d66d1"
      },
      "execution_count": 2,
      "outputs": [
        {
          "output_type": "stream",
          "name": "stdout",
          "text": [
            "Mounted at /content/gdrive\n",
            "/content/gdrive/My Drive/Colab Notebooks/QG_id_mt5_ty\n"
          ]
        }
      ]
    },
    {
      "cell_type": "code",
      "source": [
        "%cd multitask-question-generation"
      ],
      "metadata": {
        "colab": {
          "base_uri": "https://localhost:8080/"
        },
        "collapsed": true,
        "id": "FWBk3XjsVcPt",
        "outputId": "e6a64f71-e749-4ca0-a363-3d9234981771"
      },
      "execution_count": 3,
      "outputs": [
        {
          "output_type": "stream",
          "name": "stdout",
          "text": [
            "/content/gdrive/My Drive/Colab Notebooks/QG_id_mt5_ty/multitask-question-generation\n"
          ]
        }
      ]
    },
    {
      "cell_type": "markdown",
      "source": [
        "Prepare Data"
      ],
      "metadata": {
        "id": "xveWu9_mVlw3"
      }
    },
    {
      "cell_type": "code",
      "source": [
        "!python prepare_data.py"
      ],
      "metadata": {
        "colab": {
          "base_uri": "https://localhost:8080/"
        },
        "id": "5IgOkpvUVkhM",
        "outputId": "37bdb467-7247-442f-8c18-495625c84568"
      },
      "execution_count": 7,
      "outputs": [
        {
          "output_type": "stream",
          "name": "stdout",
          "text": [
            "100% 17105/17105 [00:00<00:00, 31268.77it/s]\n",
            "06/06/2022 07:49:46 - INFO - nlp.arrow_writer -   Done writing 17105 examples in 11751576 bytes .\n",
            "100% 17105/17105 [00:00<00:00, 29195.53it/s]\n",
            "06/06/2022 07:49:47 - INFO - nlp.arrow_writer -   Done writing 17105 examples in 11580534 bytes .\n",
            "/usr/local/lib/python3.7/dist-packages/transformers/models/t5/tokenization_t5.py:175: UserWarning: This sequence already has </s>. In future versions this behavior may lead to duplicated eos tokens being added.\n",
            "  f\"This sequence already has {self.eos_token}. In future versions this behavior may lead to duplicated eos tokens being added.\"\n",
            "100% 18/18 [00:28<00:00,  1.61s/it]\n",
            "06/06/2022 07:50:16 - INFO - nlp.arrow_writer -   Done writing 17105 examples in 162857370 bytes .\n",
            "100% 1695/1695 [00:00<00:00, 33439.53it/s]\n",
            "06/06/2022 07:50:16 - INFO - nlp.arrow_writer -   Done writing 1695 examples in 1157668 bytes .\n",
            "100% 1695/1695 [00:00<00:00, 29418.55it/s]\n",
            "06/06/2022 07:50:16 - INFO - nlp.arrow_writer -   Done writing 1695 examples in 1140718 bytes .\n",
            "100% 2/2 [00:02<00:00,  1.43s/it]\n",
            "06/06/2022 07:50:18 - INFO - nlp.arrow_writer -   Done writing 1695 examples in 16131322 bytes .\n",
            "06/06/2022 07:50:19 - INFO - nlp.arrow_dataset -   Set __getitem__(key) output type to torch for ['source_ids', 'target_ids', 'attention_mask'] columns  (when key is int or slice) and don't output other (un-formated) columns.\n",
            "06/06/2022 07:50:19 - INFO - nlp.arrow_dataset -   Set __getitem__(key) output type to torch for ['source_ids', 'target_ids', 'attention_mask'] columns  (when key is int or slice) and don't output other (un-formated) columns.\n",
            "06/06/2022 07:50:20 - INFO - __main__ -   saved train dataset at data/train_data_multitask_mt5.pt\n",
            "06/06/2022 07:50:21 - INFO - __main__ -   saved validation dataset at data/valid_data_multitask_mt5.pt\n",
            "06/06/2022 07:50:21 - INFO - __main__ -   saved tokenizer at mt5_qg_tokenizer\n"
          ]
        }
      ]
    },
    {
      "cell_type": "markdown",
      "source": [
        "Fine Tune"
      ],
      "metadata": {
        "id": "GmZZ51R7VndI"
      }
    },
    {
      "cell_type": "code",
      "source": [
        "!python3 run_multi.py \\\n",
        "    --model_name_or_path google/mt5-small \\\n",
        "    --model_type mt5 \\\n",
        "    --tokenizer_name_or_path mt5_qg_tokenizer \\\n",
        "    --output_dir mt5-multi \\\n",
        "    --train_file_path data/train_data_multitask_mt5.pt \\\n",
        "    --valid_file_path data/valid_data_multitask_mt5.pt \\\n",
        "    --per_device_train_batch_size 2 \\\n",
        "    --per_device_eval_batch_size 2 \\\n",
        "    --gradient_accumulation_steps 2 \\\n",
        "    --learning_rate 1e-4 \\\n",
        "    --num_train_epochs 1 \\\n",
        "    --seed 42 \\\n",
        "    --do_train \\\n",
        "    --do_eval \\\n",
        "    --logging_steps 100 \\\n",
        "    --prediction_loss_only True"
      ],
      "metadata": {
        "colab": {
          "base_uri": "https://localhost:8080/"
        },
        "id": "GQy2b-4fGRZs",
        "outputId": "c1c0f791-1f19-4057-a0b9-12a25cb8ba89"
      },
      "execution_count": 4,
      "outputs": [
        {
          "output_type": "stream",
          "name": "stdout",
          "text": [
            "06/06/2022 07:55:13 - WARNING - __main__ -   Process rank: -1, device: cuda:0, n_gpu: 1, distributed training: False, 16-bits training: False\n",
            "06/06/2022 07:55:13 - INFO - __main__ -   Training/evaluation parameters TrainingArguments(output_dir=mt5-multi, overwrite_output_dir=False, do_train=True, do_eval=True, do_predict=False, evaluation_strategy=IntervalStrategy.NO, prediction_loss_only=True, per_device_train_batch_size=2, per_device_eval_batch_size=2, gradient_accumulation_steps=2, eval_accumulation_steps=None, learning_rate=0.0001, weight_decay=0.0, adam_beta1=0.9, adam_beta2=0.999, adam_epsilon=1e-08, max_grad_norm=1.0, num_train_epochs=1.0, max_steps=-1, lr_scheduler_type=SchedulerType.LINEAR, warmup_ratio=0.0, warmup_steps=0, logging_dir=runs/Jun06_07-55-13_02f7d45e2d0a, logging_strategy=IntervalStrategy.STEPS, logging_first_step=False, logging_steps=100, save_strategy=IntervalStrategy.STEPS, save_steps=500, save_total_limit=None, no_cuda=False, seed=42, fp16=False, fp16_opt_level=O1, fp16_backend=auto, fp16_full_eval=False, local_rank=-1, tpu_num_cores=None, tpu_metrics_debug=False, debug=False, dataloader_drop_last=False, eval_steps=100, dataloader_num_workers=0, past_index=-1, run_name=mt5-multi, disable_tqdm=False, remove_unused_columns=True, label_names=None, load_best_model_at_end=False, metric_for_best_model=None, greater_is_better=None, ignore_data_skip=False, sharded_ddp=[], deepspeed=None, label_smoothing_factor=0.0, adafactor=False, group_by_length=False, report_to=['tensorboard'], ddp_find_unused_parameters=None, dataloader_pin_memory=True, skip_memory_metrics=False, _n_gpu=1)\n",
            "Downloading: 100% 553/553 [00:00<00:00, 667kB/s]\n",
            "Downloading: 100% 1.20G/1.20G [00:16<00:00, 71.2MB/s]\n",
            "06/06/2022 07:55:41 - INFO - __main__ -   loading dataset\n",
            "06/06/2022 07:55:42 - INFO - nlp.utils.file_utils -   PyTorch version 1.11.0+cu113 available.\n",
            "06/06/2022 07:55:42 - INFO - nlp.utils.file_utils -   TensorFlow version 2.8.2 available.\n",
            "06/06/2022 07:55:43 - INFO - __main__ -   finished loading dataset\n",
            "/usr/local/lib/python3.7/dist-packages/transformers/trainer.py:836: FutureWarning: `model_path` is deprecated and will be removed in a future version. Use `resume_from_checkpoint` instead.\n",
            "  FutureWarning,\n",
            "{'loss': 19.831, 'learning_rate': 9.766136576239476e-05, 'epoch': 0.02}\n",
            "{'loss': 12.9293, 'learning_rate': 9.532273152478953e-05, 'epoch': 0.05}\n",
            "{'loss': 7.3191, 'learning_rate': 9.298409728718429e-05, 'epoch': 0.07}\n",
            "{'loss': 5.9233, 'learning_rate': 9.064546304957905e-05, 'epoch': 0.09}\n",
            "{'loss': 5.7991, 'learning_rate': 8.830682881197381e-05, 'epoch': 0.12}\n",
            "{'loss': 4.9278, 'learning_rate': 8.596819457436858e-05, 'epoch': 0.14}\n",
            "{'loss': 4.3691, 'learning_rate': 8.362956033676334e-05, 'epoch': 0.16}\n",
            "{'loss': 4.0475, 'learning_rate': 8.12909260991581e-05, 'epoch': 0.19}\n",
            "{'loss': 3.684, 'learning_rate': 7.895229186155286e-05, 'epoch': 0.21}\n",
            "{'loss': 3.4651, 'learning_rate': 7.661365762394763e-05, 'epoch': 0.23}\n",
            "{'loss': 3.1075, 'learning_rate': 7.427502338634239e-05, 'epoch': 0.26}\n",
            "{'loss': 2.9489, 'learning_rate': 7.193638914873714e-05, 'epoch': 0.28}\n",
            "{'loss': 2.8345, 'learning_rate': 6.95977549111319e-05, 'epoch': 0.3}\n",
            "{'loss': 2.687, 'learning_rate': 6.725912067352666e-05, 'epoch': 0.33}\n",
            "{'loss': 2.5043, 'learning_rate': 6.492048643592142e-05, 'epoch': 0.35}\n",
            "{'loss': 2.5417, 'learning_rate': 6.258185219831618e-05, 'epoch': 0.37}\n",
            "{'loss': 2.5018, 'learning_rate': 6.0243217960710955e-05, 'epoch': 0.4}\n",
            "{'loss': 2.3831, 'learning_rate': 5.790458372310571e-05, 'epoch': 0.42}\n",
            "{'loss': 2.2876, 'learning_rate': 5.556594948550047e-05, 'epoch': 0.44}\n",
            "{'loss': 2.3132, 'learning_rate': 5.322731524789523e-05, 'epoch': 0.47}\n",
            "{'loss': 2.2146, 'learning_rate': 5.0888681010289994e-05, 'epoch': 0.49}\n",
            "{'loss': 2.2069, 'learning_rate': 4.855004677268475e-05, 'epoch': 0.51}\n",
            "{'loss': 2.1829, 'learning_rate': 4.621141253507952e-05, 'epoch': 0.54}\n",
            "{'loss': 2.1769, 'learning_rate': 4.3872778297474276e-05, 'epoch': 0.56}\n",
            "{'loss': 2.1742, 'learning_rate': 4.153414405986904e-05, 'epoch': 0.58}\n",
            "{'loss': 2.1614, 'learning_rate': 3.91955098222638e-05, 'epoch': 0.61}\n",
            "{'loss': 2.1489, 'learning_rate': 3.6856875584658564e-05, 'epoch': 0.63}\n",
            "{'loss': 2.1743, 'learning_rate': 3.451824134705332e-05, 'epoch': 0.65}\n",
            "{'loss': 2.1914, 'learning_rate': 3.217960710944809e-05, 'epoch': 0.68}\n",
            "{'loss': 2.055, 'learning_rate': 2.984097287184284e-05, 'epoch': 0.7}\n",
            "{'loss': 2.0647, 'learning_rate': 2.7502338634237607e-05, 'epoch': 0.72}\n",
            "{'loss': 2.0624, 'learning_rate': 2.516370439663237e-05, 'epoch': 0.75}\n",
            "{'loss': 2.0386, 'learning_rate': 2.282507015902713e-05, 'epoch': 0.77}\n",
            "{'loss': 2.0499, 'learning_rate': 2.048643592142189e-05, 'epoch': 0.8}\n",
            "{'loss': 2.0702, 'learning_rate': 1.814780168381665e-05, 'epoch': 0.82}\n",
            "{'loss': 2.0082, 'learning_rate': 1.580916744621141e-05, 'epoch': 0.84}\n",
            "{'loss': 1.9494, 'learning_rate': 1.3470533208606176e-05, 'epoch': 0.87}\n",
            "{'loss': 1.9887, 'learning_rate': 1.1131898971000936e-05, 'epoch': 0.89}\n",
            "{'loss': 1.8776, 'learning_rate': 8.793264733395697e-06, 'epoch': 0.91}\n",
            "{'loss': 2.1085, 'learning_rate': 6.454630495790459e-06, 'epoch': 0.94}\n",
            "{'loss': 1.9751, 'learning_rate': 4.1159962581852205e-06, 'epoch': 0.96}\n",
            "{'loss': 1.9615, 'learning_rate': 1.7773620205799812e-06, 'epoch': 0.98}\n",
            "{'train_runtime': 1439.6046, 'train_samples_per_second': 2.97, 'epoch': 1.0}\n",
            "100% 4276/4276 [23:59<00:00,  2.97it/s]\n",
            "06/06/2022 08:20:05 - INFO - __main__ -   *** Evaluate ***\n",
            "100% 848/848 [00:30<00:00, 27.93it/s]\n",
            "06/06/2022 08:20:36 - INFO - __main__ -   ***** Eval results *****\n",
            "06/06/2022 08:20:36 - INFO - __main__ -     epoch = 1.0\n",
            "06/06/2022 08:20:36 - INFO - __main__ -     eval_loss = 1.521207571029663\n",
            "06/06/2022 08:20:36 - INFO - __main__ -     eval_mem_cpu_alloc_delta = 79109\n",
            "06/06/2022 08:20:36 - INFO - __main__ -     eval_mem_cpu_peaked_delta = 506363\n",
            "06/06/2022 08:20:36 - INFO - __main__ -     eval_mem_gpu_alloc_delta = 0\n",
            "06/06/2022 08:20:36 - INFO - __main__ -     eval_mem_gpu_peaked_delta = 289127424\n",
            "06/06/2022 08:20:36 - INFO - __main__ -     eval_runtime = 30.404\n",
            "06/06/2022 08:20:36 - INFO - __main__ -     eval_samples_per_second = 55.749\n"
          ]
        }
      ]
    },
    {
      "cell_type": "code",
      "source": [
        "from pipelines import pipeline\n",
        "pipe = pipeline(\"multitask-qa-qg\", model = \"mt5-small-multi\")"
      ],
      "metadata": {
        "collapsed": true,
        "id": "V4fG2qwTk2Y7"
      },
      "execution_count": null,
      "outputs": []
    },
    {
      "cell_type": "code",
      "source": [
        "from pipelines import pipeline\n",
        "pipe2 = pipeline(\"multitask-qa-qg\", model = \"mt5-multi\")"
      ],
      "metadata": {
        "colab": {
          "base_uri": "https://localhost:8080/"
        },
        "id": "xoW5_OTmHPbX",
        "outputId": "bad70474-655e-440f-ab51-eb316f5b3dc4"
      },
      "execution_count": 4,
      "outputs": [
        {
          "output_type": "stream",
          "name": "stdout",
          "text": [
            "[nltk_data] Downloading package punkt to /root/nltk_data...\n",
            "[nltk_data]   Package punkt is already up-to-date!\n"
          ]
        }
      ]
    },
    {
      "cell_type": "code",
      "source": [
        "text1 = \"Pangeran Harya Dipanegara (atau biasa dikenal dengan nama Pangeran Diponegoro, lahir di Ngayogyakarta Hadiningrat, 11 November 1785 – meninggal di Makassar, Hindia Belanda, 8 Januari 1855 pada umur 69 tahun) adalah salah seorang pahlawan nasional Republik Indonesia, yang memimpin Perang Diponegoro atau Perang Jawa selama periode tahun 1825 hingga 1830 melawan pemerintah Hindia Belanda. Sejarah mencatat, Perang Diponegoro atau Perang Jawa dikenal sebagai perang yang menelan korban terbanyak dalam sejarah Indonesia, yakni 8.000 korban serdadu Hindia Belanda, 7.000 pribumi, dan 200 ribu orang Jawa serta kerugian materi 25 juta Gulden.\""
      ],
      "metadata": {
        "id": "JzpJ7gLfl1c_"
      },
      "execution_count": 6,
      "outputs": []
    },
    {
      "cell_type": "code",
      "source": [
        "pipe(text1)"
      ],
      "metadata": {
        "colab": {
          "base_uri": "https://localhost:8080/"
        },
        "id": "t4IY1C1Ol5RQ",
        "outputId": "946b2bcb-a732-4fee-d7ac-d122d404a576"
      },
      "execution_count": null,
      "outputs": [
        {
          "output_type": "stream",
          "name": "stderr",
          "text": [
            "/usr/local/lib/python3.7/dist-packages/transformers/generation_utils.py:1764: UserWarning: __floordiv__ is deprecated, and its behavior will change in a future version of pytorch. It currently rounds toward 0 (like the 'trunc' function NOT 'floor'). This results in incorrect rounding for negative values. To keep the current behavior, use torch.div(a, b, rounding_mode='trunc'), or for actual floor division, use torch.div(a, b, rounding_mode='floor').\n",
            "  next_indices = next_tokens // vocab_size\n"
          ]
        },
        {
          "output_type": "execute_result",
          "data": {
            "text/plain": [
              "[{'answer': '1785', 'question': 'Kapan Pangeran Harya Dipanegara meninggal?'},\n",
              " {'answer': '8.000',\n",
              "  'question': 'Berapa banyak korban serdadu Hindia Belanda?'}]"
            ]
          },
          "metadata": {},
          "execution_count": 11
        }
      ]
    },
    {
      "cell_type": "code",
      "source": [
        "pipe2(text1)"
      ],
      "metadata": {
        "colab": {
          "base_uri": "https://localhost:8080/"
        },
        "id": "z4kTI94UKpPW",
        "outputId": "d4b92053-aa41-42d8-d205-bb91bc190346"
      },
      "execution_count": 7,
      "outputs": [
        {
          "output_type": "stream",
          "name": "stderr",
          "text": [
            "/usr/local/lib/python3.7/dist-packages/transformers/generation_utils.py:1764: UserWarning: __floordiv__ is deprecated, and its behavior will change in a future version of pytorch. It currently rounds toward 0 (like the 'trunc' function NOT 'floor'). This results in incorrect rounding for negative values. To keep the current behavior, use torch.div(a, b, rounding_mode='trunc'), or for actual floor division, use torch.div(a, b, rounding_mode='floor').\n",
            "  next_indices = next_tokens // vocab_size\n"
          ]
        },
        {
          "output_type": "execute_result",
          "data": {
            "text/plain": [
              "[{'answer': '11 November 1785',\n",
              "  'question': 'Kapan Pangeran Harya Dipanegara lahir?'}]"
            ]
          },
          "metadata": {},
          "execution_count": 7
        }
      ]
    },
    {
      "cell_type": "code",
      "source": [
        "text2 = \"Pemerintah berencana menaikkan tiket Candi Borobudur menjadi Rp 750.000/orang. Kenaikan harga tiket ini bertujuan untuk membatasi jumlah pengunjung sehingga kondisi candi sebagai cagar budaya tetap ini tetap lestari. Namun, harga tiket yang mencapai Rp 750.000 per orang itu bukanlah tiket masuk, melainkan tiket naik ke atas Candi Borobudur. Direktur Utama PT Aviasi Pariwisata Indonesia (Persero)/InJourney, Dony Oskaria menyebut tiket masuk Candi Borobudur tak berubah.\"\n",
        "pipe(text2)"
      ],
      "metadata": {
        "colab": {
          "base_uri": "https://localhost:8080/"
        },
        "id": "c3M8AYItjNcX",
        "outputId": "4204fd0c-68be-4b32-9212-76539ef8d71c"
      },
      "execution_count": null,
      "outputs": [
        {
          "output_type": "stream",
          "name": "stderr",
          "text": [
            "/usr/local/lib/python3.7/dist-packages/transformers/generation_utils.py:1764: UserWarning: __floordiv__ is deprecated, and its behavior will change in a future version of pytorch. It currently rounds toward 0 (like the 'trunc' function NOT 'floor'). This results in incorrect rounding for negative values. To keep the current behavior, use torch.div(a, b, rounding_mode='trunc'), or for actual floor division, use torch.div(a, b, rounding_mode='floor').\n",
            "  next_indices = next_tokens // vocab_size\n"
          ]
        },
        {
          "output_type": "execute_result",
          "data": {
            "text/plain": [
              "[{'answer': 'jumlah pengunjung',\n",
              "  'question': 'Berapa banyak pengunjung yang tinggal di Candi Borobudur?'},\n",
              " {'answer': 'tiket naik ke atas Candi Borobudur',\n",
              "  'question': 'Kapan tiket naik ke atas Candi Borobudur?'},\n",
              " {'answer': 'Dony Oskaria',\n",
              "  'question': 'Siapa yang menyebut tiket masuk Candi Borobudur?'}]"
            ]
          },
          "metadata": {},
          "execution_count": 12
        }
      ]
    },
    {
      "cell_type": "code",
      "source": [
        "text2 = \"Pemerintah berencana menaikkan tiket Candi Borobudur menjadi Rp 750.000/orang. Kenaikan harga tiket ini bertujuan untuk membatasi jumlah pengunjung sehingga kondisi candi sebagai cagar budaya tetap ini tetap lestari. Namun, harga tiket yang mencapai Rp 750.000 per orang itu bukanlah tiket masuk, melainkan tiket naik ke atas Candi Borobudur. Direktur Utama PT Aviasi Pariwisata Indonesia (Persero)/InJourney, Dony Oskaria menyebut tiket masuk Candi Borobudur tak berubah.\"\n",
        "pipe2(text2)"
      ],
      "metadata": {
        "colab": {
          "base_uri": "https://localhost:8080/"
        },
        "id": "n13Chk1WK1hW",
        "outputId": "a9424e2c-2b1f-4fe4-9900-3d0e983d4fee"
      },
      "execution_count": 15,
      "outputs": [
        {
          "output_type": "execute_result",
          "data": {
            "text/plain": [
              "[]"
            ]
          },
          "metadata": {},
          "execution_count": 15
        }
      ]
    },
    {
      "cell_type": "code",
      "source": [
        "pipe({\"context\":text1,\"question\":\"kapan pangeran diponegoro lahir?\"})"
      ],
      "metadata": {
        "colab": {
          "base_uri": "https://localhost:8080/",
          "height": 35
        },
        "id": "PKZF-fGgjpPN",
        "outputId": "3be8ee8c-93b1-47f7-e7f2-cd3f2e67cca1"
      },
      "execution_count": null,
      "outputs": [
        {
          "output_type": "execute_result",
          "data": {
            "text/plain": [
              "'11 November 1785'"
            ],
            "application/vnd.google.colaboratory.intrinsic+json": {
              "type": "string"
            }
          },
          "metadata": {},
          "execution_count": 13
        }
      ]
    },
    {
      "cell_type": "code",
      "source": [
        "pipe2({\"context\":text1,\"question\":\"kapan pangeran diponegoro lahir?\"})"
      ],
      "metadata": {
        "colab": {
          "base_uri": "https://localhost:8080/",
          "height": 35
        },
        "id": "16dX0DIOK_TK",
        "outputId": "1365f30f-5110-41de-c726-0129a7c248fe"
      },
      "execution_count": 10,
      "outputs": [
        {
          "output_type": "execute_result",
          "data": {
            "text/plain": [
              "'11 November 1785'"
            ],
            "application/vnd.google.colaboratory.intrinsic+json": {
              "type": "string"
            }
          },
          "metadata": {},
          "execution_count": 10
        }
      ]
    },
    {
      "cell_type": "code",
      "source": [
        "pipe({\"context\":text1,\"question\":\"kapan pangeran diponegoro meninggal?\"})"
      ],
      "metadata": {
        "colab": {
          "base_uri": "https://localhost:8080/",
          "height": 35
        },
        "id": "SfwrlPA7j5ot",
        "outputId": "cd918dac-c6ac-482c-8489-6769e70f2745"
      },
      "execution_count": null,
      "outputs": [
        {
          "output_type": "execute_result",
          "data": {
            "text/plain": [
              "'11 November 1785'"
            ],
            "application/vnd.google.colaboratory.intrinsic+json": {
              "type": "string"
            }
          },
          "metadata": {},
          "execution_count": 14
        }
      ]
    },
    {
      "cell_type": "code",
      "source": [
        "pipe2({\"context\":text1,\"question\":\"kapan pangeran diponegoro meninggal?\"})"
      ],
      "metadata": {
        "colab": {
          "base_uri": "https://localhost:8080/",
          "height": 35
        },
        "id": "cIoYn97iLC7_",
        "outputId": "ad3e7fa6-fa50-41f3-edd7-ee6dfe8632b5"
      },
      "execution_count": 11,
      "outputs": [
        {
          "output_type": "execute_result",
          "data": {
            "text/plain": [
              "'11 November 1785'"
            ],
            "application/vnd.google.colaboratory.intrinsic+json": {
              "type": "string"
            }
          },
          "metadata": {},
          "execution_count": 11
        }
      ]
    },
    {
      "cell_type": "code",
      "source": [
        "pipe({\"context\":text2,\"question\":\"berapa harga tiket candi borobudur?\"})"
      ],
      "metadata": {
        "colab": {
          "base_uri": "https://localhost:8080/",
          "height": 35
        },
        "id": "S4U2eMrSkDSq",
        "outputId": "d48fd207-197d-4047-e7f3-e24a57362f88"
      },
      "execution_count": null,
      "outputs": [
        {
          "output_type": "execute_result",
          "data": {
            "text/plain": [
              "'Rp 750.000/orang'"
            ],
            "application/vnd.google.colaboratory.intrinsic+json": {
              "type": "string"
            }
          },
          "metadata": {},
          "execution_count": 15
        }
      ]
    },
    {
      "cell_type": "code",
      "source": [
        "pipe2({\"context\":text2,\"question\":\"berapa harga tiket candi borobudur?\"})"
      ],
      "metadata": {
        "colab": {
          "base_uri": "https://localhost:8080/",
          "height": 35
        },
        "id": "tLtlXDMjLHjF",
        "outputId": "d12c8794-b3c5-4943-8182-26343e5a2fff"
      },
      "execution_count": 12,
      "outputs": [
        {
          "output_type": "execute_result",
          "data": {
            "text/plain": [
              "'Kapan Candi Borobudur mulai naik?'"
            ],
            "application/vnd.google.colaboratory.intrinsic+json": {
              "type": "string"
            }
          },
          "metadata": {},
          "execution_count": 12
        }
      ]
    },
    {
      "cell_type": "code",
      "source": [
        "pipe({\"context\":text2,\"question\":\"siapa itu dony oskaria?\"})"
      ],
      "metadata": {
        "colab": {
          "base_uri": "https://localhost:8080/",
          "height": 35
        },
        "id": "4rB55PwLkTk1",
        "outputId": "5b85c416-0e2c-4a90-b1a3-f2a2eefd6216"
      },
      "execution_count": null,
      "outputs": [
        {
          "output_type": "execute_result",
          "data": {
            "text/plain": [
              "'tiket masuk Candi Borobudur'"
            ],
            "application/vnd.google.colaboratory.intrinsic+json": {
              "type": "string"
            }
          },
          "metadata": {},
          "execution_count": 16
        }
      ]
    },
    {
      "cell_type": "code",
      "source": [
        "pipe2({\"context\":text2,\"question\":\"berapa harga tiket candi borobudur?\"})"
      ],
      "metadata": {
        "colab": {
          "base_uri": "https://localhost:8080/",
          "height": 35
        },
        "id": "N2HWkCocLReN",
        "outputId": "c9b2bd99-e412-4adc-c378-0e2892698e7b"
      },
      "execution_count": 13,
      "outputs": [
        {
          "output_type": "execute_result",
          "data": {
            "text/plain": [
              "'Kapan Candi Borobudur mulai naik?'"
            ],
            "application/vnd.google.colaboratory.intrinsic+json": {
              "type": "string"
            }
          },
          "metadata": {},
          "execution_count": 13
        }
      ]
    },
    {
      "cell_type": "code",
      "source": [
        "pipe({\"context\":text2,\"question\":\"apa tujuan kenaikan harga tiket?\"})"
      ],
      "metadata": {
        "colab": {
          "base_uri": "https://localhost:8080/",
          "height": 35
        },
        "id": "o1tYjPVbkhGD",
        "outputId": "95503d24-eb31-41b7-e352-e92ba3c1bb78"
      },
      "execution_count": null,
      "outputs": [
        {
          "output_type": "execute_result",
          "data": {
            "text/plain": [
              "'Pemerintah'"
            ],
            "application/vnd.google.colaboratory.intrinsic+json": {
              "type": "string"
            }
          },
          "metadata": {},
          "execution_count": 17
        }
      ]
    },
    {
      "cell_type": "code",
      "source": [
        "pipe({\"context\":text2,\"question\":\"siapa nama direktur?\"})"
      ],
      "metadata": {
        "id": "47vYLKbHkocy",
        "outputId": "e187f7dc-e658-4659-ad46-a5bd81956701",
        "colab": {
          "base_uri": "https://localhost:8080/",
          "height": 35
        }
      },
      "execution_count": null,
      "outputs": [
        {
          "output_type": "execute_result",
          "data": {
            "text/plain": [
              "'Dony Oskaria'"
            ],
            "application/vnd.google.colaboratory.intrinsic+json": {
              "type": "string"
            }
          },
          "metadata": {},
          "execution_count": 18
        }
      ]
    },
    {
      "cell_type": "code",
      "source": [
        "pipe2({\"context\":text2,\"question\":\"berapa harga tiket candi borobudur?\"})"
      ],
      "metadata": {
        "colab": {
          "base_uri": "https://localhost:8080/",
          "height": 35
        },
        "id": "16BhFdizLXiU",
        "outputId": "9e8db632-b3b4-4817-8dcc-ac211ff4a1bb"
      },
      "execution_count": 14,
      "outputs": [
        {
          "output_type": "execute_result",
          "data": {
            "text/plain": [
              "'Kapan Candi Borobudur mulai naik?'"
            ],
            "application/vnd.google.colaboratory.intrinsic+json": {
              "type": "string"
            }
          },
          "metadata": {},
          "execution_count": 14
        }
      ]
    }
  ]
}